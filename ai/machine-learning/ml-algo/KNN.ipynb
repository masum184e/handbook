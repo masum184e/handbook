{
 "cells": [
  {
   "cell_type": "markdown",
   "id": "709acf1e-0e67-46e7-a051-1d2276c7aa92",
   "metadata": {},
   "source": [
    "# K-Nearest Neighbors (KNN)\n",
    "The K-Nearest Neighbors (KNN) algorithm is a supervised machine learning algorithm that can be used for both classification and regression tasks. It works by finding the k nearest data points (neighbors) to a given query point and using them to make predictions."
   ]
  },
  {
   "cell_type": "markdown",
   "id": "7ddae839-59c9-4240-bda9-d32d6b05001b",
   "metadata": {},
   "source": [
    "# Workings of KNN algorithm"
   ]
  },
  {
   "cell_type": "markdown",
   "id": "5307657a-3e5d-43bd-83b1-65facc1f2c35",
   "metadata": {},
   "source": [
    "# Example Dataset"
   ]
  },
  {
   "cell_type": "code",
   "execution_count": 5,
   "id": "e7333aff-6f5b-47a9-b4c3-ba9cc267bfe2",
   "metadata": {
    "scrolled": true
   },
   "outputs": [
    {
     "data": {
      "text/html": [
       "<div>\n",
       "<style scoped>\n",
       "    .dataframe tbody tr th:only-of-type {\n",
       "        vertical-align: middle;\n",
       "    }\n",
       "\n",
       "    .dataframe tbody tr th {\n",
       "        vertical-align: top;\n",
       "    }\n",
       "\n",
       "    .dataframe thead th {\n",
       "        text-align: right;\n",
       "    }\n",
       "</style>\n",
       "<table border=\"1\" class=\"dataframe\">\n",
       "  <thead>\n",
       "    <tr style=\"text-align: right;\">\n",
       "      <th></th>\n",
       "      <th>Sepal Length</th>\n",
       "      <th>petal_length</th>\n",
       "      <th>Binary Species</th>\n",
       "    </tr>\n",
       "  </thead>\n",
       "  <tbody>\n",
       "    <tr>\n",
       "      <th>0</th>\n",
       "      <td>5.1</td>\n",
       "      <td>1.4</td>\n",
       "      <td>1</td>\n",
       "    </tr>\n",
       "    <tr>\n",
       "      <th>1</th>\n",
       "      <td>4.9</td>\n",
       "      <td>1.4</td>\n",
       "      <td>1</td>\n",
       "    </tr>\n",
       "    <tr>\n",
       "      <th>2</th>\n",
       "      <td>4.7</td>\n",
       "      <td>1.3</td>\n",
       "      <td>1</td>\n",
       "    </tr>\n",
       "    <tr>\n",
       "      <th>3</th>\n",
       "      <td>4.6</td>\n",
       "      <td>1.5</td>\n",
       "      <td>1</td>\n",
       "    </tr>\n",
       "    <tr>\n",
       "      <th>4</th>\n",
       "      <td>5.0</td>\n",
       "      <td>1.4</td>\n",
       "      <td>1</td>\n",
       "    </tr>\n",
       "  </tbody>\n",
       "</table>\n",
       "</div>"
      ],
      "text/plain": [
       "   Sepal Length  petal_length  Binary Species\n",
       "0           5.1           1.4               1\n",
       "1           4.9           1.4               1\n",
       "2           4.7           1.3               1\n",
       "3           4.6           1.5               1\n",
       "4           5.0           1.4               1"
      ]
     },
     "execution_count": 5,
     "metadata": {},
     "output_type": "execute_result"
    }
   ],
   "source": [
    "from sklearn import datasets\n",
    "import pandas as pd\n",
    "iris = datasets.load_iris()\n",
    "df = pd.DataFrame(data=iris.data, columns=['sepal_length', 'sepal_width', 'petal_length', 'petal_width'])\n",
    "X = df[['sepal_length','petal_length']].values  # Features\n",
    "y = iris.target \n",
    "\n",
    "iris_df = pd.DataFrame(data=X, columns=['Sepal Length','petal_length'])\n",
    "iris_df['Species'] = y\n",
    "\n",
    "# Let's take 'Setosa' vs. 'Non-setosa' for binary classification\n",
    "iris_df['Binary Species'] = iris_df['Species'].apply(lambda x: 1 if x == 0 else 0)\n",
    "iris_df.drop(columns=['Species'], inplace=True)\n",
    "iris_df.head()"
   ]
  },
  {
   "cell_type": "markdown",
   "id": "fcc69f56-cc47-461f-b204-f892aa155d02",
   "metadata": {},
   "source": [
    "## 1.Data Preparation\n",
    "A dataset where each data point has features (input variables) and a corresponding label (output variable).\n",
    "\n",
    "__Example:__ we have a dataset of flowers with two features `sepal_length`, `petal_length`. The labels are types of species like `0` and `1`."
   ]
  },
  {
   "cell_type": "markdown",
   "id": "c6a87a25-ad3b-41b8-a632-1bf9b1611e84",
   "metadata": {},
   "source": [
    "## 2.Choose the value of `K`\n",
    "`k` is the number of nearest neighbors you consider for making predictions. Select the nearest `odd` number of \\$ \\sqrt{n} \\$ as `k`.\n",
    "\n",
    "__For instance,__ let's set `k = 5`, which means we will look at the 5 nearest data points to classify a new point."
   ]
  },
  {
   "cell_type": "markdown",
   "id": "08fac969-e6cf-40da-9e5e-f11f6447818e",
   "metadata": {},
   "source": [
    "## 3.Calculate the Distance\n",
    "To predict the label of a new data point, calculate the distance between this point and every point in the training dataset. Common distance metrics include Euclidean distance (most common), Manhattan distance, etc.\n",
    "\n",
    "__Example:__ We have a new prediction data \\$(X, Y)\\$, and we had a dataset of \\$(x_1, y_1), (x_2, y_2), (x_3, y_3), \\ldots, (x_n, y_n)\\$\n",
    "\n",
    "So, now calculate the distance between \\$(X, Y)\\$ and each of the data point."
   ]
  },
  {
   "cell_type": "markdown",
   "id": "c517f7a1-c95f-47b7-aabc-955ae31853fe",
   "metadata": {},
   "source": [
    "## 4.Sort the distance\n",
    "Sort the distances in ascending order and identify the first `k` th point "
   ]
  },
  {
   "cell_type": "markdown",
   "id": "e4faf0f1-b728-4cf3-884b-d6428a5f3f63",
   "metadata": {},
   "source": [
    "## 5.Vote for the Majority Class\n",
    "In classification, each of the `k` nearest neighbors has a label. To determine the label for the new point, take a vote among the labels of these `k` neighbors.\n",
    "\n",
    "__Example:__\n",
    "- (5.1, 1.4) labeled 1\n",
    "- (4.9, 1.4) labeled 1\n",
    "- (5.0, 1.4) labeled 1\n",
    "- (6.7,\t5.2) labeled 0\n",
    "- (6.3,\t5.0) labeled 0\n",
    "\n",
    "__Voting:__\n",
    "- `1`: 3 vote\n",
    "- `0`: 2 vote\n",
    "\n",
    "### 5.1 Average the neighbors' values\n",
    "For regression, the prediction is typically the average of the values (target variable) of the 𝑘 nearest neighbors."
   ]
  },
  {
   "cell_type": "markdown",
   "id": "7a31a686-bc08-4252-83cc-4712b7c6c937",
   "metadata": {},
   "source": [
    "## 6.Assign the Label to the New Data Point\n",
    "\n",
    "The label with the majority of votes is selected as the predicted label.\n",
    "\n",
    "__Example:__ The predicted value is `1`"
   ]
  }
 ],
 "metadata": {
  "kernelspec": {
   "display_name": "venv",
   "language": "python",
   "name": "venv"
  },
  "language_info": {
   "codemirror_mode": {
    "name": "ipython",
    "version": 3
   },
   "file_extension": ".py",
   "mimetype": "text/x-python",
   "name": "python",
   "nbconvert_exporter": "python",
   "pygments_lexer": "ipython3",
   "version": "3.11.4"
  }
 },
 "nbformat": 4,
 "nbformat_minor": 5
}
