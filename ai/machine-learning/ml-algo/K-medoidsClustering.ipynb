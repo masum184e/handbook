{
 "cells": [
  {
   "cell_type": "markdown",
   "id": "c3035bbb-6a0e-4c94-967f-ac64f39f75b4",
   "metadata": {},
   "source": [
    "# K-medoids Clustering\n",
    "K-medoids clustering, also known as Partitioning Around Medoids (PAM), is a clustering technique similar to K-means but with a key difference: instead of using the mean of points in each cluster as the cluster center (centroid), it uses an actual point within the cluster, called the medoid. This choice helps reduce the influence of outliers and is often more robust for datasets with irregular shapes or with non-Euclidean distances.\n",
    "\n",
    "## Key Concepts\n",
    "- __Medoids:__ A medoid is the most centrally located point within a cluster. Unlike a centroid, which is the average of all points in the cluster, a medoid is an actual data point.\n",
    "\n",
    "- __Difference from K-means:__\n",
    "\n",
    "    - In K-means, we calculate the mean for each cluster, which can be sensitive to outliers. In K-medoids, we select the data point with the smallest total distance to all other points in the cluster as the representative.\n",
    "    - K-medoids uses a measure of dissimilarity (often Manhattan or Euclidean distance) between data points rather than squared distances, making it more robust.\n",
    "\n",
    "## Implementation\n",
    "### 3. Update Medoids\n",
    "For each cluster, compute the total distance between each point in the cluster and every other point. The point with the smallest total distance becomes the new medoid.\n",
    "\n",
    "- __Cluster 1:__ Distances within the cluster (2,3),(3,3),(5,4):\n",
    "    - Total distance for (2, 3): 1+3.16=4.16\n",
    "    - Total distance for (3, 3): 1+2.24=3.24\n",
    "    - Total distance for (5, 4): 3.16+2.24=5.4\n",
    "    \n",
    "    - The point with the smallest total distance in Cluster 1 is (3, 3), so it becomes the new medoid for this cluster.\n",
    "- Repeat same for cluster 2\n",
    "### 4. Repeat\n",
    "With the updated medoids ((3, 3) for Cluster 1 and (8, 8) for Cluster 2), Repeat steps 2 and 3. until the clusters no longer change or a maximum number of iterations is reached.\n",
    "\n",
    "### Final Result\n",
    "After convergence, we obtain the following clusters:\n",
    "- Cluster 1 (Medoid: (3, 3)): (2,3),(3,3),(5,4)\n",
    "- Cluster 2 (Medoid: (8, 8)): (6,7),(8,8),(9,7)"
   ]
  }
 ],
 "metadata": {
  "kernelspec": {
   "display_name": "venv",
   "language": "python",
   "name": "venv"
  },
  "language_info": {
   "codemirror_mode": {
    "name": "ipython",
    "version": 3
   },
   "file_extension": ".py",
   "mimetype": "text/x-python",
   "name": "python",
   "nbconvert_exporter": "python",
   "pygments_lexer": "ipython3",
   "version": "3.11.4"
  }
 },
 "nbformat": 4,
 "nbformat_minor": 5
}
