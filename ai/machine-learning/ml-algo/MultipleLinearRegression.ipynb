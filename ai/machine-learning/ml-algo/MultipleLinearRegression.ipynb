{
 "cells": [
  {
   "cell_type": "markdown",
   "id": "aab125c7-3d9f-4212-8bcf-33b01e31b0ab",
   "metadata": {},
   "source": [
    "# Multiple Linear Regression\n",
    "MLR is an extension of simple linear regression that models the relationship between two or more independent variables (predictors) and a single dependent variable (target). In MLR, the relationship is assumed to be linear, meaning the target variable can be approximated as a linear combination of the predictors.\n",
    "\n",
    "**The equation of a multiple linear regression is:**\n",
    "\n",
    "\\$\n",
    "Y = \\beta_0 + \\beta_1 X_1 + \\beta_2 X_2 + \\dots + \\beta_n X_n + \\epsilon\n",
    "\\$\n",
    "\n",
    "Where:\n",
    "- \\$ Y \\$ = Dependent variable (what you're trying to predict)\n",
    "- \\$ X_1, X_2, \\dots, X_n \\$ = Independent variables (predictors).\n",
    "- \\$ \\beta_0 \\$ = Intercept (the value of \\$ Y \\$ when all \\$ X \\$ values are zero.\n",
    "- \\$ \\beta_1, \\beta_2, \\dots, \\beta_n \\$ = Coefficients for each predictor variable, representing the average change in \\$ Y \\$ for a one-unit increase in the corresponding \\$ X \\$, holding other variables constant\n",
    "- \\$ \\epsilon \\$ = Error term (the difference between the actual and predicted values)."
   ]
  },
  {
   "cell_type": "markdown",
   "id": "d0f53a2b-ab21-4727-a755-5428ed0cbafb",
   "metadata": {},
   "source": [
    "## Least Squared Method\n",
    "In multiple linear regression, the least squares solution can be efficiently derived using matrix notation.\n",
    "$$\n",
    "\\beta = (X^T X)^{-1} X^T y\n",
    "$$\n",
    "\n",
    "where:\n",
    "- \\$ \\beta \\$ is the vector of regression coefficients \\$[b_0, b_1, \\dots, b_n]\\$.\n",
    "- \\$ X \\$ is the matrix of input features, including a column of 1s for the intercept term, with shape \\$ m \\times (n+1) \\$ where \\$ m \\$ is the number of observations and \\$ n \\$ is the number of predictors.\n",
    "- \\$ y \\$ is the vector of observed values (dependent variable), with shape \\$ m \\times 1 \\$."
   ]
  }
 ],
 "metadata": {
  "kernelspec": {
   "display_name": "venv",
   "language": "python",
   "name": "venv"
  },
  "language_info": {
   "codemirror_mode": {
    "name": "ipython",
    "version": 3
   },
   "file_extension": ".py",
   "mimetype": "text/x-python",
   "name": "python",
   "nbconvert_exporter": "python",
   "pygments_lexer": "ipython3",
   "version": "3.11.4"
  }
 },
 "nbformat": 4,
 "nbformat_minor": 5
}
