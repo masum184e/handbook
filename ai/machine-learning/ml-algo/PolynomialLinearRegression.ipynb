{
 "cells": [
  {
   "cell_type": "markdown",
   "id": "f0dcd7e2-e730-4eae-af08-6ec88566df2c",
   "metadata": {},
   "source": [
    "# Polynomial Linear Regression\n",
    "PLR is an extension of simple linear regression where the relationship between the independent variable 𝑋 and the dependent variable Y is modeled as a polynomial. It is particularly useful for capturing nonlinear relationships by transforming the features.\n",
    "\n",
    "**The equation of a polynomial linear regression is:**\n",
    "\n",
    "\\$\n",
    "Y = \\beta_0 + \\beta_1 X + \\beta_2 X^2 + \\dots + \\beta_n X^n + \\epsilon\n",
    "\\$\n",
    "\n",
    "Where:\n",
    "- \\$ Y \\$ = Dependent variable (what you're trying to predict)\n",
    "- \\$ X^2, X^3, \\dots, X^n \\$ = Polynomial terms of the predictor variable \\$ X \\$.\n",
    "- \\$ \\beta_0, \\beta_1, \\dots, \\beta_n \\$ = Coefficients representing the weights for each term\n",
    "- \\$ \\epsilon \\$ = Error term (the difference between the actual and predicted values)."
   ]
  },
  {
   "cell_type": "markdown",
   "id": "d1d69c5e-335d-4ba4-9a26-5ec601f693b3",
   "metadata": {},
   "source": [
    "## Least Squared Method\n",
    "\n",
    "$$\n",
    "\\begin{bmatrix}\n",
    "n & \\sum x_i & \\sum x_i^2 \\\\\n",
    "\\sum x_i & \\sum x_i^2 & \\sum x_i^3 \\\\\n",
    "\\sum x_i^2 & \\sum x_i^3 & \\sum x_i^4 \\\\\n",
    "\\end{bmatrix}\n",
    "\\begin{bmatrix}\n",
    "b_0 \\\\\n",
    "b_1 \\\\\n",
    "b_2 \\\\\n",
    "\\end{bmatrix} = \n",
    "\\begin{bmatrix}\n",
    "\\sum y_i \\\\\n",
    "\\sum y_i x_i \\\\\n",
    "\\sum y_i x_i^2 \\\\\n",
    "\\end{bmatrix}\n",
    "$$\n",
    "\n",
    "Where:\n",
    "- n = number of data points."
   ]
  }
 ],
 "metadata": {
  "kernelspec": {
   "display_name": "venv",
   "language": "python",
   "name": "venv"
  },
  "language_info": {
   "codemirror_mode": {
    "name": "ipython",
    "version": 3
   },
   "file_extension": ".py",
   "mimetype": "text/x-python",
   "name": "python",
   "nbconvert_exporter": "python",
   "pygments_lexer": "ipython3",
   "version": "3.11.4"
  }
 },
 "nbformat": 4,
 "nbformat_minor": 5
}
