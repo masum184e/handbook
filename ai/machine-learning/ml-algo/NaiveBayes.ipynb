{
 "cells": [
  {
   "cell_type": "markdown",
   "id": "8befaec2-8d95-4940-9884-3fedf35d0610",
   "metadata": {},
   "source": [
    "# Naive Bayes\n",
    "Naive Bayes is a probabilistic classifiers based on Bayes’ Theorem, commonly used for classification task. It is called \"naive\" because it assumes that the features in the data are independent of each other, which is rarely the case in real-world scenarios. Despite this naive assumption, Naive Bayes often performs surprisingly well in many domains, particularly in text classification, spam filtering, and sentiment analysis."
   ]
  },
  {
   "cell_type": "markdown",
   "id": "c3e28759-8300-4fb3-863b-fe3892f7104c",
   "metadata": {},
   "source": [
    "# Bayes Theorem\n",
    "\n",
    "Bayes' Theorem describes how to calculate the probability of a hypothesis (class) given some observed evidence (features). It is expressed as:\n",
    "\n",
    "\\$\n",
    "P(C \\mid X) = \\frac{P(X \\mid C) \\cdot P(C)}{P(X)}\n",
    "\\$\n",
    "\n",
    "Where:\n",
    "\n",
    "- \\$ P(C \\mid X) \\$: **Posterior Probability** - The probability of class \\$ C \\$ given the features \\$ X \\$.\n",
    "- \\$ P(X \\mid C) \\$: **Likelihood** - The probability of the features \\$ X \\$ given that the class is \\$ C \\$.\n",
    "- \\$ P(C) \\$: **Prior Probability** - The probability of class \\$ C \\$ occurring.\n",
    "- \\$ P(X) \\$: **Marginal Probability** - The probability of the features \\$ X \\$, which acts as a scaling factor.\n",
    "\n",
    "The goal is to find the class \\$ C \\$ that maximizes the posterior probability \\$ P(C \\mid X) \\$, i.e., to classify the data point to the most likely class given its features.\n",
    "\n",
    "__Conditional probability__ tells you the probability of event `X` happening under the condition that `C` has already happened.\n",
    "\n",
    "__Bayes' Theorem__ goes a step further by allowing you to reverse probabilities: it helps you find the probability of an event `X`, given some observed evidence `C`, using known probabilities in the opposite direction. Here, `X` is previous event, and `C` is post event."
   ]
  },
  {
   "cell_type": "markdown",
   "id": "3ad099a3-02ae-40d5-a4c9-a6d6a09b7431",
   "metadata": {},
   "source": [
    "| Weather | Temperature | Location | Play? |\n",
    "|---------|-------------|----------|-------|\n",
    "| Sunny   | Cold        | Indoor   | No    |\n",
    "| Sunny   | Warm        | Outdoor  | No    |\n",
    "| Cloudy  | Warm        | Indoor   | No    |\n",
    "| Sunny   | Warm        | Indoor   | No    |\n",
    "| Cloudy  | Cold        | Indoor   | Yes   |\n",
    "| Cloudy  | Cold        | Outdoor  | Yes   |\n",
    "| Sunny   | Cold        | Outdoor  | Yes   |\n"
   ]
  },
  {
   "cell_type": "markdown",
   "id": "faddc526-aacc-4305-ae6b-4d91c83ea13e",
   "metadata": {},
   "source": [
    "# Implementation\n",
    "## 1.Calculate prior probabilities\n",
    "We calculate the prior probability for each class (Yes/No for `Wear Coat`).\n",
    "\\$\n",
    "P(\\text{Yes}) = \\frac{3}{7}, \\quad P(\\text{No}) = \\frac{4}{7}\n",
    "\\$"
   ]
  },
  {
   "cell_type": "markdown",
   "id": "70c0e026-42a6-4053-ab8c-db16987c8650",
   "metadata": {},
   "source": [
    "## 2.Calculate likelihoods\n",
    "For each feature (Outlook, Temperature, Routine), we calculate the conditional probabilities for both classes (Yes/No). Let's go through them one by one.\n",
    "- __Likelihood of `Outlook`__\n",
    "    - \\$ P(\\text{Sunny} \\mid \\text{Yes}) = \\frac{1}{3} \\$\n",
    "\n",
    "        The conditional probability of an event \\$ A \\$ given \\$ B \\$ is calculated as:\n",
    "\n",
    "        \\$\n",
    "        P(A \\mid B) = \\frac{\\text{Number of times both A and B occur together}}{\\text{Number of times B occurs in total}}\n",
    "        \\$\n",
    "\n",
    "        Where:\n",
    "    \n",
    "        - \\$ A \\$ is \"Outlook = Sunny\".\n",
    "        - \\$ B \\$ is \"Wear Coat = Yes\".\n",
    "  - \\$ P(\\text{Sunny} \\mid \\text{No}) = \\frac{3}{4} \\$\n",
    "  - \\$ P(\\text{Cloudy} \\mid \\text{Yes}) = \\frac{2}{3} \\$\n",
    "  - \\$ P(\\text{Cloudy} \\mid \\text{No}) = \\frac{1}{4} \\$\n",
    "- __Likelihood of `Outlook`__\n",
    "    - \\$ P(\\text{Cold} \\mid \\text{Yes}) = \\frac{1}{4}= 1 \\$\n",
    "    - \\$ P(\\text{Cold} \\mid \\text{No}) = \\frac{1}{4} \\$\n",
    "    - \\$ P(\\text{Warm} \\mid \\text{Yes}) = \\frac{0}{3} = 0 \\$\n",
    "    - \\$ P(\\text{Warm} \\mid \\text{No}) = \\frac{3}{4} \\$\n",
    "- __Likelihood of `Routine`__\n",
    "    - \\$ P(\\text{Indoor} \\mid \\text{Yes}) = \\frac{1}{3} \\$\n",
    "    - \\$ P(\\text{Indoor} \\mid \\text{No}) = \\frac{3}{4} \\$\n",
    "    - \\$ P(\\text{Outdoor} \\mid \\text{Yes}) = \\frac{2}{3} = 0 \\$\n",
    "    - \\$ P(\\text{Outdoor} \\mid \\text{No}) = \\frac{1}{4} \\$"
   ]
  },
  {
   "cell_type": "markdown",
   "id": "e5c68595-587d-4886-bd3f-bba20b945fb8",
   "metadata": {},
   "source": [
    "# Make a prediction"
   ]
  },
  {
   "cell_type": "markdown",
   "id": "20d18fa8-2709-47b6-8fec-4db7bf9b8266",
   "metadata": {},
   "source": [
    "Calculate the posterior probabilities.\n",
    "\\$\n",
    "P(C \\mid X) = \\frac{P(X \\mid C) \\cdot P(C)}{P(X)}\n",
    "\\$\n",
    "\n",
    "\\$\n",
    "P(Yes \\mid Cloudy, Cold, Indoor) = \\frac{P(Cloudy, Cold, Indoor \\mid Yes) \\cdot P(Yes)}{P(Cloudy, Cold, Indoor)}\n",
    "\\$\n",
    "\n",
    "\\$\n",
    "= \\frac{P(Cloudy \\mid Yes) \\cdot P(Cold \\mid Yes) \\cdot P(Indoor \\mid Yes) \\cdot P(Yes) }{P(Cloudy) \\cdot P(Cold) \\cdot P(Indoor)}\n",
    "\\$\n",
    "\n",
    "\\$\n",
    "= \\frac{\\frac{2}{3} \\cdot 1 \\cdot \\frac{1}{3} \\cdot \\frac{3}{7}}{\\frac{3}{7} \\cdot \\frac{3}{7} \\cdot \\frac{3}{7}} = 1.207\n",
    "\\$\n",
    "\n",
    "\\$\n",
    "P(Yes \\mid Cloudy, Cold, Indoor) = \\frac{\\frac{1}{4} \\cdot \\frac{1}{4} \\cdot \\frac{3}{4} \\cdot \\frac{4}{7}}{\\frac{3}{7} \\cdot \\frac{3}{7} \\cdot \\frac{3}{7}} = \\frac{1}{3}\n",
    "\\$"
   ]
  },
  {
   "cell_type": "markdown",
   "id": "c3aca84a-7075-41e3-98e9-8ebc66861816",
   "metadata": {},
   "source": [
    "# Final Prediction\n",
    "Since, P(Yes | Cloudy, Cold, Indoor) = 1.207 > P(No | Cloudy, Cold, Indoor) = .33, the algorithms predicts `Yes`, which means the person should wear a coat\n"
   ]
  }
 ],
 "metadata": {
  "kernelspec": {
   "display_name": "venv",
   "language": "python",
   "name": "venv"
  },
  "language_info": {
   "codemirror_mode": {
    "name": "ipython",
    "version": 3
   },
   "file_extension": ".py",
   "mimetype": "text/x-python",
   "name": "python",
   "nbconvert_exporter": "python",
   "pygments_lexer": "ipython3",
   "version": "3.11.4"
  }
 },
 "nbformat": 4,
 "nbformat_minor": 5
}
