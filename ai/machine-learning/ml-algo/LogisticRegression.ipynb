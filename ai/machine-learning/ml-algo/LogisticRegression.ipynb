{
 "cells": [
  {
   "cell_type": "markdown",
   "id": "52df8235-eeef-4186-86cc-0f35d4244992",
   "metadata": {},
   "source": [
    "# Logistic regression\n",
    "Logistic regression is a statistical method used for `binary classification` problems, where the outcome variable is categorical and has two possible values, often represented as 0 or 1. It estimates the probability that a given input belongs to a specific class, using a logistic function (also known as the sigmoid function)\n",
    "\n",
    "## Logistic Function (Sigmoid Function)\n",
    "The core of logistic regression is the logistic function (or sigmoid function):\n",
    "\n",
    "$$\n",
    "\\sigma(z) = \\frac{1}{1 + e^{-z}}\n",
    "$$\n",
    "\n",
    "Here, \\$ z \\$ is a linear combination of the input features, for example:\n",
    "\n",
    "$$\n",
    "z = b_0 + b_1 x_1 + b_2 x_2 + \\dots + b_n x_n\n",
    "$$\n",
    "\n",
    "- \\$ b_0 \\$ is the intercept and \\$ b_1, b_2, \\dots, b_n \\$ are the coefficients (weights) of the features \\$ x_1, x_2, \\dots, x_n \\$.\n",
    "- \n",
    "The sigmoid function maps any real-valued number into a value between `0` and `1`, making it suitable for estimating probabilities."
   ]
  },
  {
   "cell_type": "markdown",
   "id": "fa8b782b-5d14-4b35-a2c7-0b42c58665d8",
   "metadata": {},
   "source": [
    "## Output Interpretation\n",
    "\n",
    "- The output of the logistic function is a probability value between `0` and `1`.\n",
    "- For example, if the output is `0.75`, it indicates a `75%` probability that the instance belongs to the positive class (e.g., `1`).\n",
    "- A decision threshold is typically set (e.g., `0.5`) to determine the predicted class:\n",
    "    - If the probability is greater than `0.5`, classify it as `1`.\n",
    "    - If the probability is less than `0.5`, classify it as `0`.\n"
   ]
  },
  {
   "cell_type": "markdown",
   "id": "f044877d-0341-4640-a87b-c249d34cb552",
   "metadata": {},
   "source": [
    "## Cost Function\n",
    "\\$ b_0, b_1, b_2, \\dots, b_n \\$ is calculated through cost function"
   ]
  }
 ],
 "metadata": {
  "kernelspec": {
   "display_name": "venv",
   "language": "python",
   "name": "venv"
  },
  "language_info": {
   "codemirror_mode": {
    "name": "ipython",
    "version": 3
   },
   "file_extension": ".py",
   "mimetype": "text/x-python",
   "name": "python",
   "nbconvert_exporter": "python",
   "pygments_lexer": "ipython3",
   "version": "3.11.4"
  }
 },
 "nbformat": 4,
 "nbformat_minor": 5
}
