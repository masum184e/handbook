{
 "cells": [
  {
   "cell_type": "markdown",
   "id": "3a8f7759-df7d-4e66-b646-4858e2ad1260",
   "metadata": {},
   "source": [
    "# K-means Clustering\n",
    "K-means clustering is an unsupervised learning algorithm used to partition a dataset into a predefined number of groups, or \"clusters,\" where each data point belongs to the cluster with the nearest mean. It’s popular for grouping and understanding data structures, pattern recognition, and image compression.\n",
    "## Key Concepts\n",
    "- __Clusters and Centroids__: Clusters are the groups that data points are divided into, and each cluster has a central point called a centroid, which is the mean position of all points in the cluster.\n",
    "- __K (Number of Clusters)__: The user defines the number of clusters, denoted by K. Choosing K can be tricky and is often done through methods like the Elbow Method or Silhouette Score.\n",
    "- __Distance Measure__: K-means often uses Euclidean distance to measure the similarity between points and the centroids.\n",
    "- __Iterations__: K-means iteratively refines the clusters by recalculating the centroids and reassigning points until the algorithm converges (the cluster assignments no longer change or a maximum number of iterations is reached).\n",
    "\n",
    "## Implementation"
   ]
  },
  {
   "cell_type": "code",
   "execution_count": 2,
   "id": "957041f3-4680-4165-9581-96a831697112",
   "metadata": {},
   "outputs": [
    {
     "name": "stdout",
     "output_type": "stream",
     "text": [
      "   X  Y\n",
      "0  2  3\n",
      "1  3  3\n",
      "2  6  7\n",
      "3  8  8\n",
      "4  5  4\n",
      "5  9  7\n"
     ]
    }
   ],
   "source": [
    "import pandas as pd\n",
    "data = {\n",
    "    'X': [2, 3, 6, 8, 5, 9],\n",
    "    'Y': [3, 3, 7, 8, 4, 7]\n",
    "}\n",
    "df = pd.DataFrame(data)\n",
    "print(df)"
   ]
  },
  {
   "cell_type": "markdown",
   "id": "59820d2c-5790-47d4-a1b6-7550781d7db0",
   "metadata": {},
   "source": [
    "### 1. Initialize Centroids\n",
    "Select 𝐾 points randomly from the dataset as the initial centroids.\n",
    "\n",
    "__Example:__ Assume we set K=2, meaning we want to divide the data into two clusters. Randomly pick two points as the initial centroids. Let's say we start with points (2, 3) and (8, 8).\n",
    "\n",
    "### 2. Assign Points to Nearest Centroid\n",
    "For each data point, compute the distance to each centroid and assign the point to the closest one.\n",
    "\n",
    "__Distances from Centroid 1: (2, 3)__\n",
    "- Distance to (2, 3): 0 (same point)\n",
    "- Distance to (3, 3): 1\n",
    "- Distance to (6, 7): 5.66\n",
    "- Distance to (8, 8): 7.81\n",
    "- Distance to (5, 4): 3.16\n",
    "- Distance to (9, 7): 8.06\n",
    "\n",
    "__Distances from Centroid 2: (8, 8)__\n",
    "- Distance to (2, 3): 7.81\n",
    "- Distance to (3, 3): 7.07\n",
    "- Distance to (6, 7): 2.24\n",
    "- Distance to (8, 8): 0 (same point)\n",
    "- Distance to (5, 4): 5.0\n",
    "- Distance to (9, 7): 1.41\n",
    "\n",
    "__Assign Points to Nearest Centroid__\n",
    "Now, based on the distances, each point will be assigned to the centroid it is closest to:\n",
    "- (2, 3): Closer to Centroid 1 (distance 0)\n",
    "- (3, 3): Closer to Centroid 1 (distance 1)\n",
    "- (5, 4): Closer to Centroid 1 (distance 3.16)\n",
    "- (6, 7): Closer to Centroid 2 (distance 2.24)\n",
    "- (8, 8): Closer to Centroid 2 (distance 0)\n",
    "- (9, 7): Closer to Centroid 2 (distance 1.41)\n",
    "\n",
    "Thus, the clusters based on this iteration would be:\n",
    "- Cluster 1: (2,3),(3,3),(5,4)\n",
    "- Cluster 2: (6,7),(8,8),(9,7)\n",
    "\n",
    "### 3. Update Centroids\n",
    "For each cluster, recalculate the centroid as the mean of all points assigned to it\n",
    "\n",
    "Calculate the mean position of points in each cluster:\n",
    "- Cluster 1 new centroid:  ($ \\frac {2+3+5}{3}, \\frac {3+3+4}{3}) =(3.33,3.33) $\n",
    "- Cluster 1 new centroid:  ($ \\frac {6+8+9}{3}, \\frac {7+8+7}{3} =(7.67,7.33) $\n",
    "\n",
    "### 4. Repeat\n",
    "Repeat steps 2 and 3 until the centroids do not change (convergence) or reach a pre-set maximum number of iterations."
   ]
  }
 ],
 "metadata": {
  "kernelspec": {
   "display_name": "venv",
   "language": "python",
   "name": "venv"
  },
  "language_info": {
   "codemirror_mode": {
    "name": "ipython",
    "version": 3
   },
   "file_extension": ".py",
   "mimetype": "text/x-python",
   "name": "python",
   "nbconvert_exporter": "python",
   "pygments_lexer": "ipython3",
   "version": "3.11.4"
  }
 },
 "nbformat": 4,
 "nbformat_minor": 5
}
