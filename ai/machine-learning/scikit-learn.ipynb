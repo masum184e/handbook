{
 "cells": [
  {
   "cell_type": "markdown",
   "id": "c69ff7e9-52b2-4503-bcff-b11506074cc5",
   "metadata": {},
   "source": [
    "# Contents\n",
    "- API Structure\n",
    "- Built-in Datasets\n",
    "- Algorithms"
   ]
  },
  {
   "cell_type": "markdown",
   "id": "b1d56805-a855-441a-972e-3e8e5ad2e77a",
   "metadata": {},
   "source": [
    "# API Structure\n",
    "Scikit-learn follows a consistent and simple API design across all its modules, which revolves around three primary methods:\n",
    "\n",
    "## 1. Estimator:\n",
    "- Any object that can estimate model parameters.\n",
    "- Examples: `LinearRegression`, `KMeans`.\n",
    "- Methods:\n",
    "    - `fit(X, y)`: Train the model on data `X` (features) and `y` (target).\n",
    "## 2. Predictor:\n",
    "- Any object capable of making predictions.\n",
    "- Examples: `RandomForestClassifier`, `SVR`.\n",
    "- Methods:\n",
    "    - `predict(X)`: Predict target values for input `X`.\n",
    "    - `score(X, y)`: Evaluate model performance.\n",
    "## 3. Transformer:\n",
    "- Objects used for data transformation.\n",
    "- Examples: `StandardScaler`, `PCA`.\n",
    "- Methods:\n",
    "    - `fit(X)`: Learn transformation parameters from `X`.\n",
    "    - `transform(X)`: Apply the learned transformation to `X`.\n",
    "## 4. Pipeline:\n",
    "- Combines preprocessing and modeling steps into a single workflow.\n",
    "- Example: Scaling + Logistic Regression in one pipeline."
   ]
  },
  {
   "cell_type": "markdown",
   "id": "d7f835e3-3753-4562-9bab-c5ebe78b8b11",
   "metadata": {},
   "source": [
    "# Built-in Datasets\n",
    "## Types\n",
    "### 1. Small Toy Datasets:\n",
    "- Preloaded datasets with small sizes, suitable for experimentation.\n",
    "- Examples: Iris, Wine, Breast Cancer, Digits.\n",
    "### 2. Real-world Datasets:\n",
    "- Larger datasets requiring explicit download.\n",
    "- Examples: California Housing, 20 Newsgroups, and OpenML datasets.\n",
    "### 3. Synthetic Datasets:\n",
    "- Programmatically generated datasets for testing.\n",
    "- Examples: `make_classification`, `make_regression`.\n",
    "## Exploring Built-in Datasets\n",
    "Built-in datasets return a Bunch object, which acts like a dictionary. Key attributes include:\n",
    "\n",
    "- `data`: Features (independent variables).\n",
    "- `target`: Labels (dependent variable).\n",
    "- `DESCR`: Description of the dataset.\n",
    "- `feature_names`: Names of features (if available).\n",
    "## Dataset Functions\n",
    "### Preloaded Small Datasets\n",
    "These datasets are loaded using specific functions and are small enough to load into memory.\n",
    "- `load_iris()`: Iris flower dataset for classification.\n",
    "- `load_wine()`: Wine classification dataset.\n",
    "- `load_breast_cancer()`: Breast cancer classification dataset.\n",
    "- `load_digits()`: Handwritten digits dataset for image classification."
   ]
  },
  {
   "cell_type": "code",
   "execution_count": 1,
   "id": "7974cb45-022b-4a1a-b958-240a30b8fc8c",
   "metadata": {},
   "outputs": [],
   "source": [
    "from sklearn.datasets import load_iris\n",
    "iris = load_iris()\n",
    "X = iris.data\n",
    "y = iris.target "
   ]
  },
  {
   "cell_type": "markdown",
   "id": "7add5f17-cbc3-491b-8902-072e76d1b9fe",
   "metadata": {},
   "source": [
    "### Downloadable Real-world Datasets\n",
    "These datasets are larger and can be downloaded:\n",
    "- `fetch_california_housing()`: California housing dataset for regression.\n",
    "- `fetch_20newsgroups()`: Text dataset for classification."
   ]
  },
  {
   "cell_type": "code",
   "execution_count": 2,
   "id": "614a134a-c8e2-4625-bb6f-fce40cb613df",
   "metadata": {},
   "outputs": [],
   "source": [
    "from sklearn.datasets import fetch_california_housing\n",
    "housing = fetch_california_housing()\n",
    "X = housing.data\n",
    "y = housing.target"
   ]
  },
  {
   "cell_type": "markdown",
   "id": "ad0065e6-4433-4d8d-97a0-5c574f39ea9b",
   "metadata": {},
   "source": [
    "### Synthetic Dataset Generators\n",
    "Generate synthetic datasets with controlled properties:\n",
    "- `make_classification()`: Generate datasets for classification tasks.\n",
    "- `make_regression()`: Generate datasets for regression tasks."
   ]
  },
  {
   "cell_type": "code",
   "execution_count": 6,
   "id": "07291db3-b9eb-4a44-bab7-9112c2c72609",
   "metadata": {},
   "outputs": [],
   "source": [
    "from sklearn.datasets import make_classification\n",
    "X, y = make_classification(n_features=2, n_informative=1, n_redundant=0, n_classes=1)"
   ]
  },
  {
   "cell_type": "markdown",
   "id": "bcb6d789-f775-46a2-847b-d9cfc835c8aa",
   "metadata": {},
   "source": [
    "# Supervised Learning Algorithms\n",
    "- Regression\n",
    "    - Linear Regression\n",
    "    - Polynomial Regression\n",
    "    - Ridge and Lasso Regression\n",
    "    - Decision Tree Regression\n",
    "    - Random Forest Regression\n",
    "    - Support Vector Regression (SVR)\n",
    "- Classification\n",
    "    - Logistic Regression\n",
    "    - k-Nearest Neighbors (KNN)\n",
    "    - Support Vector Machines (SVM)\n",
    "    - Decision Tree Classifier\n",
    "    - Random Forest Classifier\n",
    "    - Gradient Boosting Classifier (including XGBoost)\n",
    "    - Naive Bayes\n",
    "    - Neural Networks (Basic implementation using MLPClassifier)\n",
    "\n",
    "# Unsupervised Learning Algorithms\n",
    "- Clustering\n",
    "    - k-Means Clustering\n",
    "    - Hierarchical Clustering\n",
    "    - DBSCAN\n",
    "- Dimensionality Reduction\n",
    "    - Principal Component Analysis (PCA)\n",
    "    - t-Distributed Stochastic Neighbor Embedding (t-SNE)\n",
    "- Anomaly Detection\n",
    "    - Isolation Forest\n",
    "    - One-Class SVM"
   ]
  }
 ],
 "metadata": {
  "kernelspec": {
   "display_name": "venv",
   "language": "python",
   "name": "venv"
  },
  "language_info": {
   "codemirror_mode": {
    "name": "ipython",
    "version": 3
   },
   "file_extension": ".py",
   "mimetype": "text/x-python",
   "name": "python",
   "nbconvert_exporter": "python",
   "pygments_lexer": "ipython3",
   "version": "3.11.4"
  }
 },
 "nbformat": 4,
 "nbformat_minor": 5
}
