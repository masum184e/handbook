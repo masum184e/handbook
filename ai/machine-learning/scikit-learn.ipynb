{
 "cells": [
  {
   "cell_type": "markdown",
   "id": "c69ff7e9-52b2-4503-bcff-b11506074cc5",
   "metadata": {},
   "source": [
    "# Contents\n",
    "- API Structure\n",
    "- Built-in Datasets\n",
    "- Algorithms\n",
    "- Supervised Learning\n",
    "    - LinearRegression\n",
    "    - KNeighborsClassifier"
   ]
  },
  {
   "cell_type": "markdown",
   "id": "b1d56805-a855-441a-972e-3e8e5ad2e77a",
   "metadata": {},
   "source": [
    "# API Structure\n",
    "Scikit-learn follows a consistent and simple API design across all its modules, which revolves around three primary methods:\n",
    "\n",
    "## 1. Estimator:\n",
    "- Any object that can estimate model parameters.\n",
    "- Examples: `LinearRegression`, `KMeans`.\n",
    "- Methods:\n",
    "    - `fit(X, y)`: Train the model on data `X` (features) and `y` (target).\n",
    "## 2. Predictor:\n",
    "- Any object capable of making predictions.\n",
    "- Examples: `RandomForestClassifier`, `SVR`.\n",
    "- Methods:\n",
    "    - `predict(X)`: Predict target values for input `X`.\n",
    "    - `score(X, y)`: Evaluate model performance.\n",
    "## 3. Transformer:\n",
    "- Objects used for data transformation.\n",
    "- Examples: `StandardScaler`, `PCA`.\n",
    "- Methods:\n",
    "    - `fit(X)`: Learn transformation parameters from `X`.\n",
    "    - `transform(X)`: Apply the learned transformation to `X`.\n",
    "## 4. Pipeline:\n",
    "- Combines preprocessing and modeling steps into a single workflow.\n",
    "- Example: Scaling + Logistic Regression in one pipeline."
   ]
  },
  {
   "cell_type": "markdown",
   "id": "d7f835e3-3753-4562-9bab-c5ebe78b8b11",
   "metadata": {},
   "source": [
    "# Built-in Datasets\n",
    "## Types\n",
    "### 1. Small Toy Datasets:\n",
    "- Preloaded datasets with small sizes, suitable for experimentation.\n",
    "- Examples: Iris, Wine, Breast Cancer, Digits.\n",
    "### 2. Real-world Datasets:\n",
    "- Larger datasets requiring explicit download.\n",
    "- Examples: California Housing, 20 Newsgroups, and OpenML datasets.\n",
    "### 3. Synthetic Datasets:\n",
    "- Programmatically generated datasets for testing.\n",
    "- Examples: `make_classification`, `make_regression`.\n",
    "## Exploring Built-in Datasets\n",
    "Built-in datasets return a Bunch object, which acts like a dictionary. Key attributes include:\n",
    "\n",
    "- `data`: Features (independent variables).\n",
    "- `target`: Labels (dependent variable).\n",
    "- `DESCR`: Description of the dataset.\n",
    "- `feature_names`: Names of features (if available).\n",
    "## Dataset Functions\n",
    "### Preloaded Small Datasets\n",
    "These datasets are loaded using specific functions and are small enough to load into memory.\n",
    "- `load_iris()`: Iris flower dataset for classification.\n",
    "- `load_wine()`: Wine classification dataset.\n",
    "- `load_breast_cancer()`: Breast cancer classification dataset.\n",
    "- `load_digits()`: Handwritten digits dataset for image classification."
   ]
  },
  {
   "cell_type": "code",
   "execution_count": 1,
   "id": "7974cb45-022b-4a1a-b958-240a30b8fc8c",
   "metadata": {},
   "outputs": [],
   "source": [
    "from sklearn.datasets import load_iris\n",
    "iris = load_iris()\n",
    "X = iris.data\n",
    "y = iris.target "
   ]
  },
  {
   "cell_type": "markdown",
   "id": "7add5f17-cbc3-491b-8902-072e76d1b9fe",
   "metadata": {},
   "source": [
    "### Downloadable Real-world Datasets\n",
    "These datasets are larger and can be downloaded:\n",
    "- `fetch_california_housing()`: California housing dataset for regression.\n",
    "- `fetch_20newsgroups()`: Text dataset for classification."
   ]
  },
  {
   "cell_type": "code",
   "execution_count": 2,
   "id": "614a134a-c8e2-4625-bb6f-fce40cb613df",
   "metadata": {},
   "outputs": [],
   "source": [
    "from sklearn.datasets import fetch_california_housing\n",
    "housing = fetch_california_housing()\n",
    "X = housing.data\n",
    "y = housing.target"
   ]
  },
  {
   "cell_type": "markdown",
   "id": "ad0065e6-4433-4d8d-97a0-5c574f39ea9b",
   "metadata": {},
   "source": [
    "### Synthetic Dataset Generators\n",
    "Generate synthetic datasets with controlled properties:\n",
    "- `make_classification()`: Generate datasets for classification tasks.\n",
    "- `make_regression()`: Generate datasets for regression tasks."
   ]
  },
  {
   "cell_type": "code",
   "execution_count": 6,
   "id": "07291db3-b9eb-4a44-bab7-9112c2c72609",
   "metadata": {},
   "outputs": [],
   "source": [
    "from sklearn.datasets import make_classification\n",
    "X, y = make_classification(n_features=2, n_informative=1, n_redundant=0, n_classes=1)"
   ]
  },
  {
   "cell_type": "markdown",
   "id": "bcb6d789-f775-46a2-847b-d9cfc835c8aa",
   "metadata": {},
   "source": [
    "# Supervised Learning Algorithms\n",
    "- Regression\n",
    "    - Linear Regression\n",
    "    - Polynomial Regression\n",
    "    - Ridge and Lasso Regression\n",
    "    - Decision Tree Regression\n",
    "    - Random Forest Regression\n",
    "    - Support Vector Regression (SVR)\n",
    "- Classification\n",
    "    - Logistic Regression\n",
    "    - k-Nearest Neighbors (KNN)\n",
    "    - Support Vector Machines (SVM)\n",
    "    - Decision Tree Classifier\n",
    "    - Random Forest Classifier\n",
    "    - Gradient Boosting Classifier (including XGBoost)\n",
    "    - Naive Bayes\n",
    "    - Neural Networks (Basic implementation using MLPClassifier)\n",
    "\n",
    "# Unsupervised Learning Algorithms\n",
    "- Clustering\n",
    "    - k-Means Clustering\n",
    "    - Hierarchical Clustering\n",
    "    - DBSCAN\n",
    "- Dimensionality Reduction\n",
    "    - Principal Component Analysis (PCA)\n",
    "    - t-Distributed Stochastic Neighbor Embedding (t-SNE)\n",
    "- Anomaly Detection\n",
    "    - Isolation Forest\n",
    "    - One-Class SVM"
   ]
  },
  {
   "cell_type": "markdown",
   "id": "eede00a3-93a7-43aa-898d-d0064f4661b4",
   "metadata": {},
   "source": [
    "# Supervised Learning\n",
    "## LinearRegression\n",
    "1. **fit_intercept** (default=`True`):\n",
    "    - Boolean. If `True`, a bias (intercept) term is added to the model.\n",
    "    - If `False`, the data is assumed to be centered.\n",
    "2. **normalize** (default=`'deprecated'`):\n",
    "    - Whether to normalize the data (independent variables).\n",
    "    - Deprecated since version 1.0. If `fit_intercept=False`, this parameter is ignored. It's recommended to use `StandardScaler` or other preprocessing methods for normalization.\n",
    "3. **copy_X** (default=`True`):\n",
    "    - Boolean. If `True`, X is copied; else, it may be overwritten.\n",
    "4. **n_jobs** (default=`None`):\n",
    "    - The number of jobs to use for computation.\n",
    "    - `None` means 1 job, and -1 means using all processors.\n",
    "5. **positive** (default=`False`):\n",
    "    - If True, forces the coefficients to be positive. Available from version 0.24."
   ]
  },
  {
   "cell_type": "code",
   "execution_count": null,
   "id": "7b33fa56-fe5a-478a-9520-5bfd61c935a0",
   "metadata": {},
   "outputs": [],
   "source": [
    "from sklearn.linear_model import LinearRegression\n",
    "\n",
    "model = LinearRegression(\n",
    "    fit_intercept=True,\n",
    "    normalize='deprecated',\n",
    "    copy_X=True,\n",
    "    n_jobs=None,\n",
    "    positive=False\n",
    ")"
   ]
  },
  {
   "cell_type": "markdown",
   "id": "2a606cdd-a425-4efe-b8cc-e77690064d75",
   "metadata": {},
   "source": [
    "## KNeighborsClassifier\n",
    "1. **`n_neighbors`** (default=`5`):\n",
    "   - Number of neighbors to use for making predictions.\n",
    "\n",
    "2. **`weights`** (default=`'uniform'`):\n",
    "   - Weight function for neighbors:\n",
    "     - `'uniform'`: All points have equal weight.\n",
    "     - `'distance'`: Closer points have more influence.\n",
    "     - Callable: Custom function to compute weights.\n",
    "\n",
    "3. **`algorithm`** (default=`'auto'`):\n",
    "   - Algorithm used to compute the nearest neighbors:\n",
    "     - `'auto'`: Chooses the best method based on data.\n",
    "     - `'ball_tree'`: Ball tree algorithm.\n",
    "     - `'kd_tree'`: KD tree algorithm.\n",
    "     - `'brute'`: Brute-force search.\n",
    "\n",
    "4. **`leaf_size`** (default=`30`):\n",
    "   - Leaf size for `BallTree` or `KDTree`. Affects speed and memory usage.\n",
    "\n",
    "5. **`p`** (default=`2`):\n",
    "   - Power parameter for the Minkowski metric:\n",
    "     - `p=1`: Manhattan distance.\n",
    "     - `p=2`: Euclidean distance.\n",
    "     - Any other value: Minkowski distance.\n",
    "\n",
    "6. **`metric`** (default=`'minkowski'`):\n",
    "   - Distance metric to use. Options include:\n",
    "     - `'euclidean'`, `'manhattan'`, `'chebyshev'`, etc.\n",
    "     - `'minkowski'` (default) with `p` controlling the metric.\n",
    "\n",
    "7. **`metric_params`** (default=`None`):\n",
    "   - Additional keyword arguments for the metric function.\n",
    "\n",
    "8. **`n_jobs`** (default=`None`):\n",
    "   - Number of parallel jobs to use for distance computation:\n",
    "     - `None`: 1 job.\n",
    "     - `-1`: Use all available processors."
   ]
  },
  {
   "cell_type": "code",
   "execution_count": null,
   "id": "8d7a71e0-d1f3-4fd1-ab85-5f3e51b8e54f",
   "metadata": {},
   "outputs": [],
   "source": [
    "from sklearn.neighbors import KNeighborsClassifier\n",
    "\n",
    "model = KNeighborsClassifier(\n",
    "    n_neighbors=5,\n",
    "    weights='uniform',\n",
    "    algorithm='auto',\n",
    "    leaf_size=30,\n",
    "    p=2,\n",
    "    metric='minkowski',\n",
    "    metric_params=None,\n",
    "    n_jobs=None\n",
    ")"
   ]
  }
 ],
 "metadata": {
  "kernelspec": {
   "display_name": "venv",
   "language": "python",
   "name": "venv"
  },
  "language_info": {
   "codemirror_mode": {
    "name": "ipython",
    "version": 3
   },
   "file_extension": ".py",
   "mimetype": "text/x-python",
   "name": "python",
   "nbconvert_exporter": "python",
   "pygments_lexer": "ipython3",
   "version": "3.11.4"
  }
 },
 "nbformat": 4,
 "nbformat_minor": 5
}
