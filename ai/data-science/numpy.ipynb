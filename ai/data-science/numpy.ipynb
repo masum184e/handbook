{
 "cells": [
  {
   "cell_type": "markdown",
   "id": "77aec215-9117-477e-8305-ec1421ddb0de",
   "metadata": {},
   "source": [
    "# Contents\n",
    "- Introduction\n",
    "- Creating Array\n",
    "    - Dimensions"
   ]
  },
  {
   "cell_type": "markdown",
   "id": "54d1783c-b627-445a-9b30-39ddb720de5d",
   "metadata": {},
   "source": [
    "# Introduction\n",
    "NumPy is a Python library used for working with arrays. It also has functions for working in domain of linear algebra, fourier transform, and matrices.\n",
    "\n",
    "## Why Use NumPy?\n",
    "In Python we have lists that serve the purpose of arrays, but they are slow to process.\n",
    "\n",
    "NumPy aims to provide an array object that is up to 50x faster than traditional Python lists.\n",
    "\n",
    "The array object in NumPy is called `ndarray`, it provides a lot of supporting functions that make working with ndarray very easy.\n",
    "\n",
    "## Why is NumPy Faster Than Lists?\n",
    "NumPy arrays are stored at one continuous place in memory unlike lists, so processes can access and manipulate them very efficiently.\n",
    "\n",
    "This behavior is called locality of reference in computer science."
   ]
  },
  {
   "cell_type": "markdown",
   "id": "f4a416dd-df28-4ebe-8566-ca4fedd73035",
   "metadata": {},
   "source": [
    "# Creating Array\n",
    "NumPy is used to work with arrays. The array object in NumPy is called ndarray. We can create a NumPy `ndarray` object by using the `array()` function."
   ]
  },
  {
   "cell_type": "code",
   "execution_count": 2,
   "id": "7e5a0181-5d9f-43ae-8941-a3ad9af2622c",
   "metadata": {},
   "outputs": [],
   "source": [
    "import numpy as np\n",
    "arr = np.array([1, 2, 3, 4, 5])"
   ]
  },
  {
   "cell_type": "code",
   "execution_count": 3,
   "id": "f2824d28-5db0-48e7-9b6b-50670b3fcbc4",
   "metadata": {},
   "outputs": [
    {
     "data": {
      "text/plain": [
       "array([1, 2, 3, 4, 5])"
      ]
     },
     "execution_count": 3,
     "metadata": {},
     "output_type": "execute_result"
    }
   ],
   "source": [
    "arr"
   ]
  },
  {
   "cell_type": "code",
   "execution_count": 4,
   "id": "4c97cd26-8a28-4f58-b4d0-f110a1f8bdae",
   "metadata": {},
   "outputs": [
    {
     "data": {
      "text/plain": [
       "numpy.ndarray"
      ]
     },
     "execution_count": 4,
     "metadata": {},
     "output_type": "execute_result"
    }
   ],
   "source": [
    "type(arr)"
   ]
  },
  {
   "cell_type": "markdown",
   "id": "4bd82376-2f3b-4869-8e85-6da36c75a0e4",
   "metadata": {},
   "source": [
    "`type()`: This built-in Python function tells us the type of the object passed to it. Like in above code it shows that `arr` is `numpy.ndarray` type.\n",
    "\n",
    "To create an ndarray, we can pass a list, tuple or any array-like object into the array() method, and it will be converted into an ndarray"
   ]
  },
  {
   "cell_type": "code",
   "execution_count": 5,
   "id": "3ab97811-0684-4b09-a98e-c63ed0ef829b",
   "metadata": {},
   "outputs": [],
   "source": [
    "arr = np.array((1, 2, 3, 4, 5))"
   ]
  },
  {
   "cell_type": "markdown",
   "id": "ef2a5608-eeee-4ef5-9a69-72c787a8e03e",
   "metadata": {},
   "source": [
    "### Dimensions\n",
    "- `0-D` or `Scalar` array are the elements in an array\n",
    "- `1-D` or `uni-dimensional` array have 0-D array as it's element\n",
    "- `2-D` array have 1-D array as it's element. These are often used to represent matrix or 2nd order tensors. NumPy has a whole sub module dedicated towards matrix operations called `numpy.mat`"
   ]
  },
  {
   "cell_type": "code",
   "execution_count": 7,
   "id": "184183e8-a6e7-47a8-a59f-515d17f2ff58",
   "metadata": {},
   "outputs": [],
   "source": [
    "zero = np.array(42)\n",
    "one = np.array([1, 2, 3, 4, 5])\n",
    "two = np.array([[1, 2, 3], [4, 5, 6]])\n",
    "three = np.array([[[1, 2, 3], [4, 5, 6]], [[1, 2, 3], [4, 5, 6]]])"
   ]
  },
  {
   "cell_type": "markdown",
   "id": "31a441a5-bbb1-4497-834e-896416b63dcd",
   "metadata": {},
   "source": [
    "- `ndim` as attribute return the dimension and as argument set the dimension"
   ]
  },
  {
   "cell_type": "code",
   "execution_count": 8,
   "id": "f13b8065-ea23-4e65-a570-82346762314e",
   "metadata": {},
   "outputs": [],
   "source": [
    "arr = np.array([1, 2, 3, 4], ndmin=5)"
   ]
  },
  {
   "cell_type": "code",
   "execution_count": 9,
   "id": "5b60b4de-7098-4ef4-bfd9-fd75094d9edb",
   "metadata": {},
   "outputs": [
    {
     "data": {
      "text/plain": [
       "array([[[[[1, 2, 3, 4]]]]])"
      ]
     },
     "execution_count": 9,
     "metadata": {},
     "output_type": "execute_result"
    }
   ],
   "source": [
    "arr"
   ]
  },
  {
   "cell_type": "code",
   "execution_count": 10,
   "id": "a53d29d5-1c1a-4e0c-9e5d-96fc0ed17e0b",
   "metadata": {},
   "outputs": [
    {
     "data": {
      "text/plain": [
       "5"
      ]
     },
     "execution_count": 10,
     "metadata": {},
     "output_type": "execute_result"
    }
   ],
   "source": [
    "arr.ndim"
   ]
  }
 ],
 "metadata": {
  "kernelspec": {
   "display_name": "Python 3 (ipykernel)",
   "language": "python",
   "name": "python3"
  },
  "language_info": {
   "codemirror_mode": {
    "name": "ipython",
    "version": 3
   },
   "file_extension": ".py",
   "mimetype": "text/x-python",
   "name": "python",
   "nbconvert_exporter": "python",
   "pygments_lexer": "ipython3",
   "version": "3.12.8"
  }
 },
 "nbformat": 4,
 "nbformat_minor": 5
}
