{
 "cells": [
  {
   "cell_type": "markdown",
   "id": "6f5054a2-5121-491e-a101-b38abaf98d0a",
   "metadata": {},
   "source": [
    "# Contents\n",
    "\n",
    "- [Introduction](#introduction)\n",
    "- [Series](#series)\n",
    "- [Data Frame](#dataframe)\n",
    "- [File Reading](#file-reading)\n",
    "  - [CSV](#csv)\n",
    "  - [JSON](#json)\n",
    "- [Inspecting Data](#inspecting-data)\n",
    "- [Data Cleaning](#data-cleaning)\n",
    "  - [Remove Rows](#remove-rows)\n",
    "  - [Replace Empty Vaues](#replace-empty-values)\n",
    "  - [Remove Duplicates](#remove-duplicates)\n",
    "  - [Wrong Format](#wrong-format)\n",
    "  - [Wrong Data](#wrong-data)\n",
    "- [Column Operation](#column-operation)\n",
    "  - [Insertion](#column-insertion)\n",
    "  - [Updation](#column-updation)\n",
    "  - [Deletion](#column-deletion)\n",
    "- [Feature Scaling](#feature-scaling)\n",
    "  - [Standardization](#standardization-z-score-normalization)\n",
    "  - [Min-Max Scaling](#min-max-scaling-normalization)\n",
    "  - [Robust Scaling](#robust-scaling)\n",
    "  - [MaxAbs Scaling](#maxabs-scaling)\n",
    "- [Filtering](#filtering)\n",
    "- [Concatenating](#concatenating)\n",
    "- [Merging](#merging)\n",
    "  - [Inner Join](#inner-join)\n",
    "  - [Outer Join](#outer-join)\n",
    "  - [Left Join](#left-join)\n",
    "  - [Right Join](#right-join)\n",
    "  - [Transformation](#transformation)"
   ]
  },
  {
   "cell_type": "markdown",
   "id": "bffc4a91-3350-4dec-9a43-a2d34964bdea",
   "metadata": {},
   "source": [
    "# Introduction\n",
    "\n",
    "Pandas is used for working with data sets, it is used to analyze data. It has functions for analyzing, cleaning, exploring, and manipulating data.\n",
    "\n",
    "**What Can Pandas Do?**\n",
    "Pandas gives you answers about the data. Like:\n",
    "\n",
    "- Is there a correlation between two or more columns?\n",
    "- What is average value?\n",
    "- Max value?\n",
    "- Min value?\n",
    "\n",
    "Pandas are also able to delete rows that are not relevant, or contains wrong values, like empty or NULL values. This is called cleaning the data.\n",
    "\n",
    "- `pandas.__version__` - return the version of pandas\n",
    "- `pandas.DataFrame()` - a data structure constructed with rows and columns, similar to a database.\n",
    "- `pandas.options.display.max_rows` - return or set the system maximum number of row\n",
    "\n",
    "# Series\n",
    "\n",
    "A Pandas Series is like a column in a table."
   ]
  },
  {
   "cell_type": "code",
   "execution_count": 6,
   "id": "7eb5ce0e-192b-473f-ab70-e4afd0aa849f",
   "metadata": {},
   "outputs": [],
   "source": [
    "import pandas as pd\n",
    "name=[\"Jack\",\"John\",\"Mark\",\"Zuck\"]\n",
    "student_table = pd.Series(name)"
   ]
  },
  {
   "cell_type": "code",
   "execution_count": 7,
   "id": "7ce9f641-d778-4acc-b54a-217dec757390",
   "metadata": {},
   "outputs": [
    {
     "data": {
      "text/plain": [
       "0    Jack\n",
       "1    John\n",
       "2    Mark\n",
       "3    Zuck\n",
       "dtype: object"
      ]
     },
     "execution_count": 7,
     "metadata": {},
     "output_type": "execute_result"
    }
   ],
   "source": [
    "student_table"
   ]
  },
  {
   "cell_type": "markdown",
   "id": "4bbcca8e-1c11-41a9-8790-61ec0ac3ffcc",
   "metadata": {},
   "source": [
    "The above script generate name column in student table.\n",
    "\n",
    "you can access each column value by their index.\n",
    "\n",
    "you can also overried the index label with your custom label by `index` argument."
   ]
  },
  {
   "cell_type": "code",
   "execution_count": 3,
   "id": "053ee4a0-0d34-44b8-a5d5-8e3f2c1b24ec",
   "metadata": {},
   "outputs": [],
   "source": [
    "student_table = pd.Series(name,index = [\"a\", \"b\", \"c\",\"d\"])"
   ]
  },
  {
   "cell_type": "code",
   "execution_count": 4,
   "id": "c9c65feb-fa5d-4942-b0e8-c414e37386e7",
   "metadata": {},
   "outputs": [
    {
     "data": {
      "text/plain": [
       "a    Jack\n",
       "b    John\n",
       "c    Mark\n",
       "d    Zuck\n",
       "dtype: object"
      ]
     },
     "execution_count": 4,
     "metadata": {},
     "output_type": "execute_result"
    }
   ],
   "source": [
    "student_table"
   ]
  },
  {
   "cell_type": "markdown",
   "id": "1369586e-c588-4705-bfd5-064a9b3b680d",
   "metadata": {},
   "source": [
    "now you can access it both by number index as well as you custom index."
   ]
  },
  {
   "cell_type": "code",
   "execution_count": 13,
   "id": "66bfbde0-ea24-4656-9f00-0ff45bff8f78",
   "metadata": {},
   "outputs": [
    {
     "name": "stdout",
     "output_type": "stream",
     "text": [
      "Jack\n"
     ]
    }
   ],
   "source": [
    "# print(student_table['a'])\n",
    "print(student_table.iloc[0]) # student_table[0] will be removed"
   ]
  },
  {
   "cell_type": "markdown",
   "id": "ea6e7b73-eeec-489b-92c4-4a364eaae21d",
   "metadata": {},
   "source": [
    "if you use dictornary instead of list, the keys of the dictionary become the labels"
   ]
  },
  {
   "cell_type": "code",
   "execution_count": 14,
   "id": "d15f2339-aaa0-4f24-bf43-413bbf1a4dad",
   "metadata": {},
   "outputs": [],
   "source": [
    "name={\"a\":\"Jack\",\"b\":\"John\",\"c\":\"Mark\",\"d\":\"Zuck\"}"
   ]
  },
  {
   "cell_type": "markdown",
   "id": "ca113a81-4dac-42bb-a47b-dcbf48814794",
   "metadata": {},
   "source": [
    "if label is set `index` argument is used to get specific item, if not, it set label.\n",
    "\n",
    "The length of data and the length of `index` argument should be same. The data used in **series** or **dataframe** can be anytype."
   ]
  },
  {
   "cell_type": "markdown",
   "id": "a97c20b8-cccc-4fb6-840a-d7fdcb84d567",
   "metadata": {},
   "source": [
    "# DataFrame\n",
    "\n",
    "A Pandas DataFrame is a 2 dimensional data structure, like a 2 dimensional array, or a table with rows and columns."
   ]
  },
  {
   "cell_type": "code",
   "execution_count": 17,
   "id": "dd5d18fa-d700-4cba-b2a8-7eef601fb4d4",
   "metadata": {},
   "outputs": [],
   "source": [
    "data = {\n",
    "  \"calories\": [420, 380, 390],\n",
    "  \"duration\": [50, 40, 45]\n",
    "}\n",
    "df = pd.DataFrame(data)"
   ]
  },
  {
   "cell_type": "markdown",
   "id": "1281638e-5a5c-470c-9c3f-546dde24d6c0",
   "metadata": {},
   "source": [
    "`loc` attribute return one or more specified row"
   ]
  },
  {
   "cell_type": "code",
   "execution_count": 20,
   "id": "37b10ff6-f66b-4764-aed5-fe0714318af2",
   "metadata": {},
   "outputs": [
    {
     "name": "stdout",
     "output_type": "stream",
     "text": [
      "calories    420\n",
      "duration     50\n",
      "Name: 0, dtype: int64\n"
     ]
    }
   ],
   "source": [
    "print(df.loc[0]) # return first row"
   ]
  },
  {
   "cell_type": "code",
   "execution_count": 21,
   "id": "d0079bc1-ba61-4c7c-91b6-3142411aa03f",
   "metadata": {},
   "outputs": [
    {
     "name": "stdout",
     "output_type": "stream",
     "text": [
      "   calories  duration\n",
      "0       420        50\n",
      "2       390        45\n"
     ]
    }
   ],
   "source": [
    "print(df.loc[[0,2]]) # return specified index - 0th, 2nd"
   ]
  },
  {
   "cell_type": "code",
   "execution_count": 22,
   "id": "73f39005-20ad-4d21-937e-811a581ed3a8",
   "metadata": {},
   "outputs": [
    {
     "name": "stdout",
     "output_type": "stream",
     "text": [
      "   calories  duration\n",
      "0       420        50\n",
      "1       380        40\n",
      "2       390        45\n"
     ]
    }
   ],
   "source": [
    "print(df.loc[0:2]) # return list of indexes from 0 to 2"
   ]
  },
  {
   "cell_type": "markdown",
   "id": "c0c97d36-c399-4635-8f6d-0c0e446fd007",
   "metadata": {},
   "source": [
    "you can override the label in dataframe also"
   ]
  },
  {
   "cell_type": "code",
   "execution_count": 24,
   "id": "bb76e476-9672-4915-95af-7c4d2eafa7dd",
   "metadata": {},
   "outputs": [],
   "source": [
    "df = pd.DataFrame(data, index = [\"a\", \"b\", \"c\"])"
   ]
  },
  {
   "cell_type": "code",
   "execution_count": 25,
   "id": "54235c41-3e8c-4d7c-a6c1-16dd72c0a6f5",
   "metadata": {},
   "outputs": [
    {
     "data": {
      "text/html": [
       "<div>\n",
       "<style scoped>\n",
       "    .dataframe tbody tr th:only-of-type {\n",
       "        vertical-align: middle;\n",
       "    }\n",
       "\n",
       "    .dataframe tbody tr th {\n",
       "        vertical-align: top;\n",
       "    }\n",
       "\n",
       "    .dataframe thead th {\n",
       "        text-align: right;\n",
       "    }\n",
       "</style>\n",
       "<table border=\"1\" class=\"dataframe\">\n",
       "  <thead>\n",
       "    <tr style=\"text-align: right;\">\n",
       "      <th></th>\n",
       "      <th>calories</th>\n",
       "      <th>duration</th>\n",
       "    </tr>\n",
       "  </thead>\n",
       "  <tbody>\n",
       "    <tr>\n",
       "      <th>a</th>\n",
       "      <td>420</td>\n",
       "      <td>50</td>\n",
       "    </tr>\n",
       "    <tr>\n",
       "      <th>b</th>\n",
       "      <td>380</td>\n",
       "      <td>40</td>\n",
       "    </tr>\n",
       "    <tr>\n",
       "      <th>c</th>\n",
       "      <td>390</td>\n",
       "      <td>45</td>\n",
       "    </tr>\n",
       "  </tbody>\n",
       "</table>\n",
       "</div>"
      ],
      "text/plain": [
       "   calories  duration\n",
       "a       420        50\n",
       "b       380        40\n",
       "c       390        45"
      ]
     },
     "execution_count": 25,
     "metadata": {},
     "output_type": "execute_result"
    }
   ],
   "source": [
    "df"
   ]
  },
  {
   "cell_type": "markdown",
   "id": "ea3ac85e-b335-4abc-a67e-776417f12b4d",
   "metadata": {},
   "source": [
    "# File Reading\n",
    "\n",
    "## CSV\n",
    "\n",
    "`pandas.read_csv()` - read csv file and store in data frame\n",
    "\n",
    "If you have a large DataFrame with many rows, Pandas will only return the first 5 rows, and the last 5 rows"
   ]
  },
  {
   "cell_type": "code",
   "execution_count": null,
   "id": "be712360-bbf2-4b8b-b665-201fb7c9bdc6",
   "metadata": {},
   "outputs": [],
   "source": [
    "df = pd.read_csv('data.csv')"
   ]
  },
  {
   "cell_type": "markdown",
   "id": "d097796e-5742-4c71-ae53-4d135c3bc0b7",
   "metadata": {},
   "source": [
    "`dataframe.toString()` - return entire dataframe as **string representation**, it will output the entire DataFrame to the console."
   ]
  },
  {
   "cell_type": "code",
   "execution_count": 26,
   "id": "2b3eb3c7-87c8-4b87-997c-4fed34b33954",
   "metadata": {},
   "outputs": [
    {
     "data": {
      "text/plain": [
       "'   calories  duration\\na       420        50\\nb       380        40\\nc       390        45'"
      ]
     },
     "execution_count": 26,
     "metadata": {},
     "output_type": "execute_result"
    }
   ],
   "source": [
    "df.to_string()"
   ]
  },
  {
   "cell_type": "markdown",
   "id": "e619768a-1c21-4e77-8faf-0f4e6f733976",
   "metadata": {},
   "source": [
    "`dataframe.to_csv(filename)` - use to generate csv file"
   ]
  },
  {
   "cell_type": "markdown",
   "id": "5f940097-b42b-49d3-b112-363a56ae092d",
   "metadata": {},
   "source": [
    "## JSON\n",
    "\n",
    "`pandas.read_json()` - read json file and store in data frame\n",
    "\n",
    "JSON objects have the same format as Python dictionaries. If your JSON code is not in a file, but in a Python Dictionary, you can load it into a DataFrame directly:"
   ]
  },
  {
   "cell_type": "markdown",
   "id": "17ea5971-78ef-466a-9b66-95d4fd7f08d3",
   "metadata": {},
   "source": [
    "# Inspecting Data\n",
    "\n",
    "- `info()` - provide summary\n",
    "- `head()` - return the first nth rows\n",
    "- `tail()` - return the last nth rows\n",
    "- `shape` - return a tuple represent the dimension\n",
    "- `describe()` - generates descriptive statistics like max, min, mean, std etc for numerical columns by default.\n",
    "- `columns` - returns an Index object containing the column labels\n",
    "- `index` - return the index(row label) range\n",
    "- `dtypes` - return data type of each column\n",
    "- `isnull()` - return boolean value indicating whether each value is NaN\n",
    "- `notnull()` - return boolean value indicating whether each value is not NaN\n",
    "- `sum()`,`mean()`,`median()`,`std()`,`min()`,`max()` - apply on each column and return value according to their name\n",
    "- `value.counts()` - return a series containing counts of unique values for a given column. Ex: `df['column_name'].value_counts()`, if you want to consider `NaN` as unique value put `dropna=False` argument.\n",
    "- `sample()` - return random samples, you can specify the number of row with n attribute\n",
    "- `corr()` - computes pairwise correlation of columns, excluding NA/null values.\n",
    "- `nunique()` - returns the number of unique values for each column.\n",
    "- `df['column_name'].str.string_method()` - perform string related operation like `len()`, `upper()`, `lower()`, `substr()`, `replace()` etc.t\n",
    "\n",
    "all the method ignore `NaN` value while calculating, `skipna=False` argument is use to consider `NaN` value.\n",
    "\n",
    "**Perform Aggregations:**"
   ]
  },
  {
   "cell_type": "code",
   "execution_count": 33,
   "id": "a819bff1-5bbb-4f8e-a5fe-e029ec758e1b",
   "metadata": {},
   "outputs": [],
   "source": [
    "custom_agg=df.agg({\n",
    "  \"calories\": [\"sum\", \"mean\"],\n",
    "  \"duration\": [\"min\", \"max\"],\n",
    "  # \"c\": \"count\"\n",
    "})"
   ]
  },
  {
   "cell_type": "code",
   "execution_count": 34,
   "id": "fa5229e6-a095-4e81-85b3-352f023e3953",
   "metadata": {},
   "outputs": [
    {
     "data": {
      "text/html": [
       "<div>\n",
       "<style scoped>\n",
       "    .dataframe tbody tr th:only-of-type {\n",
       "        vertical-align: middle;\n",
       "    }\n",
       "\n",
       "    .dataframe tbody tr th {\n",
       "        vertical-align: top;\n",
       "    }\n",
       "\n",
       "    .dataframe thead th {\n",
       "        text-align: right;\n",
       "    }\n",
       "</style>\n",
       "<table border=\"1\" class=\"dataframe\">\n",
       "  <thead>\n",
       "    <tr style=\"text-align: right;\">\n",
       "      <th></th>\n",
       "      <th>calories</th>\n",
       "      <th>duration</th>\n",
       "    </tr>\n",
       "  </thead>\n",
       "  <tbody>\n",
       "    <tr>\n",
       "      <th>sum</th>\n",
       "      <td>1190.000000</td>\n",
       "      <td>NaN</td>\n",
       "    </tr>\n",
       "    <tr>\n",
       "      <th>mean</th>\n",
       "      <td>396.666667</td>\n",
       "      <td>NaN</td>\n",
       "    </tr>\n",
       "    <tr>\n",
       "      <th>min</th>\n",
       "      <td>NaN</td>\n",
       "      <td>40.0</td>\n",
       "    </tr>\n",
       "    <tr>\n",
       "      <th>max</th>\n",
       "      <td>NaN</td>\n",
       "      <td>50.0</td>\n",
       "    </tr>\n",
       "  </tbody>\n",
       "</table>\n",
       "</div>"
      ],
      "text/plain": [
       "         calories  duration\n",
       "sum   1190.000000       NaN\n",
       "mean   396.666667       NaN\n",
       "min           NaN      40.0\n",
       "max           NaN      50.0"
      ]
     },
     "execution_count": 34,
     "metadata": {},
     "output_type": "execute_result"
    }
   ],
   "source": [
    "custom_agg"
   ]
  },
  {
   "cell_type": "markdown",
   "id": "fd582103-8872-442b-af9e-61b94930611a",
   "metadata": {},
   "source": [
    "# Data Cleaning\n",
    "\n",
    "Data cleaning means fixing bad data in your data set. Bad data could be:\n",
    "\n",
    "- Empty cells\n",
    "- Data in wrong format\n",
    "- Wrong data\n",
    "- Duplicates\n",
    "\n",
    "- `isna()` - detect missing values and return boolean datafram\n",
    "- `isna().sum()` - detect and count the number of missing values for each column\n",
    "\n",
    "## Remove Rows\n",
    "\n",
    "`df.dropna()` - return a new Data Frame with no empty cells"
   ]
  },
  {
   "cell_type": "code",
   "execution_count": 35,
   "id": "9beed121-3e48-4cb8-90aa-0e6410d57efe",
   "metadata": {},
   "outputs": [
    {
     "name": "stdout",
     "output_type": "stream",
     "text": [
      "     Duration  Pulse  Maxpulse  Calories\n",
      "0          60    110       130     409.1\n",
      "1          60    117       145     479.0\n",
      "2          60    103       135     340.0\n",
      "3          45    109       175     282.4\n",
      "4          45    117       148     406.0\n",
      "5          60    102       127     300.5\n",
      "6          60    110       136     374.0\n",
      "7          45    104       134     253.3\n",
      "8          30    109       133     195.1\n",
      "9          60     98       124     269.0\n",
      "10         60    103       147     329.3\n",
      "11         60    100       120     250.7\n",
      "12         60    106       128     345.3\n",
      "13         60    104       132     379.3\n",
      "14         60     98       123     275.0\n",
      "15         60     98       120     215.2\n",
      "16         60    100       120     300.0\n",
      "18         60    103       123     323.0\n",
      "19         45     97       125     243.0\n",
      "20         60    108       131     364.2\n",
      "21         45    100       119     282.0\n",
      "22         60    130       101     300.0\n",
      "23         45    105       132     246.0\n",
      "24         60    102       126     334.5\n",
      "25         60    100       120     250.0\n",
      "26         60     92       118     241.0\n",
      "28         60    100       132     280.0\n",
      "29         60    102       129     380.3\n",
      "30         60     92       115     243.0\n",
      "31         45     90       112     180.1\n",
      "32         60    101       124     299.0\n",
      "33         60     93       113     223.0\n",
      "34         60    107       136     361.0\n",
      "35         60    114       140     415.0\n",
      "36         60    102       127     300.5\n",
      "37         60    100       120     300.1\n",
      "38         60    100       120     300.0\n",
      "39         45    104       129     266.0\n",
      "40         45     90       112     180.1\n",
      "41         60     98       126     286.0\n",
      "42         60    100       122     329.4\n",
      "43         60    111       138     400.0\n",
      "44         60    111       131     397.0\n",
      "45         60     99       119     273.0\n",
      "46         60    109       153     387.6\n",
      "47         45    111       136     300.0\n",
      "48         45    108       129     298.0\n",
      "49         60    111       139     397.6\n",
      "50         60    107       136     380.2\n",
      "51         80    123       146     643.1\n",
      "52         60    106       130     263.0\n",
      "53         60    118       151     486.0\n",
      "54         30    136       175     238.0\n",
      "55         60    121       146     450.7\n",
      "56         60    118       121     413.0\n",
      "57         45    115       144     305.0\n",
      "58         20    153       172     226.4\n",
      "59         45    123       152     321.0\n",
      "60        210    108       160    1376.0\n",
      "61        160    110       137    1034.4\n",
      "62        160    109       135     853.0\n",
      "63         45    118       141     341.0\n",
      "64         20    110       130     131.4\n",
      "65        180     90       130     800.4\n",
      "66        150    105       135     873.4\n",
      "67        150    107       130     816.0\n",
      "68         20    106       136     110.4\n",
      "69        300    108       143    1500.2\n",
      "70        150     97       129    1115.0\n",
      "71         60    109       153     387.6\n",
      "72         90    100       127     700.0\n",
      "73        150     97       127     953.2\n",
      "74         45    114       146     304.0\n",
      "75         90     98       125     563.2\n",
      "76         45    105       134     251.0\n",
      "77         45    110       141     300.0\n",
      "78        120    100       130     500.4\n",
      "79        270    100       131    1729.0\n",
      "80         30    159       182     319.2\n",
      "81         45    149       169     344.0\n",
      "82         30    103       139     151.1\n",
      "83        120    100       130     500.0\n",
      "84         45    100       120     225.3\n",
      "85         30    151       170     300.1\n",
      "86         45    102       136     234.0\n",
      "87        120    100       157    1000.1\n",
      "88         45    129       103     242.0\n",
      "89         20     83       107      50.3\n",
      "90        180    101       127     600.1\n",
      "92         30     90       107     105.3\n",
      "93         15     80       100      50.5\n",
      "94         20    150       171     127.4\n",
      "95         20    151       168     229.4\n",
      "96         30     95       128     128.2\n",
      "97         25    152       168     244.2\n",
      "98         30    109       131     188.2\n",
      "99         90     93       124     604.1\n",
      "100        20     95       112      77.7\n",
      "101        90     90       110     500.0\n",
      "102        90     90       100     500.0\n",
      "103        90     90       100     500.4\n",
      "104        30     92       108      92.7\n",
      "105        30     93       128     124.0\n",
      "106       180     90       120     800.3\n",
      "107        30     90       120      86.2\n",
      "108        90     90       120     500.3\n",
      "109       210    137       184    1860.4\n",
      "110        60    102       124     325.2\n",
      "111        45    107       124     275.0\n",
      "112        15    124       139     124.2\n",
      "113        45    100       120     225.3\n",
      "114        60    108       131     367.6\n",
      "115        60    108       151     351.7\n",
      "116        60    116       141     443.0\n",
      "117        60     97       122     277.4\n",
      "119        60    103       124     332.7\n",
      "120        30    112       137     193.9\n",
      "121        45    100       120     100.7\n",
      "122        60    119       169     336.7\n",
      "123        60    107       127     344.9\n",
      "124        60    111       151     368.5\n",
      "125        60     98       122     271.0\n",
      "126        60     97       124     275.3\n",
      "127        60    109       127     382.0\n",
      "128        90     99       125     466.4\n",
      "129        60    114       151     384.0\n",
      "130        60    104       134     342.5\n",
      "131        60    107       138     357.5\n",
      "132        60    103       133     335.0\n",
      "133        60    106       132     327.5\n",
      "134        60    103       136     339.0\n",
      "135        20    136       156     189.0\n",
      "136        45    117       143     317.7\n",
      "137        45    115       137     318.0\n",
      "138        45    113       138     308.0\n",
      "139        20    141       162     222.4\n",
      "140        60    108       135     390.0\n",
      "142        45    100       120     250.4\n",
      "143        45    122       149     335.4\n",
      "144        60    136       170     470.2\n",
      "145        45    106       126     270.8\n",
      "146        60    107       136     400.0\n",
      "147        60    112       146     361.9\n",
      "148        30    103       127     185.0\n",
      "149        60    110       150     409.4\n",
      "150        60    106       134     343.0\n",
      "151        60    109       129     353.2\n",
      "152        60    109       138     374.0\n",
      "153        30    150       167     275.8\n",
      "154        60    105       128     328.0\n",
      "155        60    111       151     368.5\n",
      "156        60     97       131     270.4\n",
      "157        60    100       120     270.4\n",
      "158        60    114       150     382.8\n",
      "159        30     80       120     240.9\n",
      "160        30     85       120     250.4\n",
      "161        45     90       130     260.4\n",
      "162        45     95       130     270.0\n",
      "163        45    100       140     280.9\n",
      "164        60    105       140     290.8\n",
      "165        60    110       145     300.4\n",
      "166        60    115       145     310.2\n",
      "167        75    120       150     320.4\n",
      "168        75    125       150     330.4\n"
     ]
    }
   ],
   "source": [
    "df = pd.read_csv('./data.csv')\n",
    "new_df = df.dropna()\n",
    "print(new_df.to_string())"
   ]
  },
  {
   "cell_type": "markdown",
   "id": "1656b481-5eb5-4cf2-bb18-ef3c8a40f5c5",
   "metadata": {},
   "source": [
    "If you want to change the original DataFrame, use the `inplace = True` argument:"
   ]
  },
  {
   "cell_type": "code",
   "execution_count": null,
   "id": "97ca6940-8f36-46f4-9a78-3307556b9863",
   "metadata": {},
   "outputs": [],
   "source": [
    "df.dropna(inplace = True)\n",
    "print(df.to_string())"
   ]
  },
  {
   "cell_type": "markdown",
   "id": "7c0b6e1a-d2a4-4458-a8d4-90462ce03539",
   "metadata": {},
   "source": [
    "It will NOT return a new DataFrame, but it will remove all rows containing NULL values from the original DataFrame.\n",
    "\n",
    "if you want to remove row, based on any specified column, specify it with subset attribute. Like if Date column have null value you want remove the row, then use it"
   ]
  },
  {
   "cell_type": "code",
   "execution_count": 39,
   "id": "31d56f4c-a1ce-4d50-8ae9-1d9c299913fe",
   "metadata": {},
   "outputs": [],
   "source": [
    "df.dropna(subset=['Duration'], inplace = True)"
   ]
  },
  {
   "cell_type": "markdown",
   "id": "d7f5040a-c103-480d-8583-11d6746121ef",
   "metadata": {},
   "source": [
    "if any other column have null value, those will not be removed."
   ]
  },
  {
   "cell_type": "markdown",
   "id": "342209e6-9a68-4142-8899-acb244990f35",
   "metadata": {},
   "source": [
    "## Replace Empty Values\n",
    "\n",
    "`fillna()` method allows to replace empty cells with a value."
   ]
  },
  {
   "cell_type": "code",
   "execution_count": 40,
   "id": "69c319d9-9b34-482f-84f2-b72ee3ddd98d",
   "metadata": {},
   "outputs": [],
   "source": [
    "df.fillna(130, inplace = True)"
   ]
  },
  {
   "cell_type": "markdown",
   "id": "1d58e895-a75d-481d-9630-3aac0da7d86c",
   "metadata": {},
   "source": [
    "It will replace all empty cells in the whole data frame. If you want to replace empty value on specified column, then specify them."
   ]
  },
  {
   "cell_type": "code",
   "execution_count": null,
   "id": "ff2fa64c-49f7-4f7f-8687-aab1050271f4",
   "metadata": {},
   "outputs": [],
   "source": [
    "df[\"Calories\"].fillna(130, inplace = True)"
   ]
  },
  {
   "cell_type": "markdown",
   "id": "5f620bcb-60b6-40ce-ae90-e482815528bb",
   "metadata": {},
   "source": [
    "**For multiple column:**"
   ]
  },
  {
   "cell_type": "code",
   "execution_count": 42,
   "id": "1a296f96-e864-4410-b656-7ab2e8c05f62",
   "metadata": {},
   "outputs": [],
   "source": [
    "fill_values = {\n",
    "    \"Calories\": 130,\n",
    "    \"Protein\": 0.0,\n",
    "    \"Fat\": 0.0\n",
    "}\n",
    "df.fillna(value=fill_values, inplace=True)"
   ]
  },
  {
   "cell_type": "markdown",
   "id": "65640930-a64c-487d-8575-b2ed16b396db",
   "metadata": {},
   "source": [
    "### Replacing with Mean, Median, Mode"
   ]
  },
  {
   "cell_type": "code",
   "execution_count": null,
   "id": "2c01d5c0-fd45-4719-95d1-4e3b6322d1aa",
   "metadata": {},
   "outputs": [],
   "source": [
    "x = df[\"Calories\"].mean() # you can also use median(), mode()[0]\n",
    "df[\"Calories\"].fillna(x, inplace = True)"
   ]
  },
  {
   "cell_type": "markdown",
   "id": "6ede3c8c-84d7-4917-876f-943fdb18b9a2",
   "metadata": {},
   "source": [
    "### Forward & Backward Filling\n",
    "\n",
    "Forward filling fills missing values with the last known value that appeared before the NaN. This is useful when you assume that the previous value is the best estimate for the missing value. Backward filling fills missing values with the next known value that appears after the NaN. This is useful when you assume that the next value is the best estimate for the missing value.. It is useful in time series data or other sequential data."
   ]
  },
  {
   "cell_type": "code",
   "execution_count": null,
   "id": "95048b7b-8ac8-4b3a-bc18-2c8e0d7573f5",
   "metadata": {},
   "outputs": [],
   "source": [
    "df_ffilled = df.fillna(method='ffill')\n",
    "df_bfilled = df.fillna(method='bfill')"
   ]
  },
  {
   "cell_type": "markdown",
   "id": "01e8cebb-7a51-427a-af99-64c328f492c4",
   "metadata": {},
   "source": [
    "## Remove Duplicates\n",
    "\n",
    "- `duplicated()` method returns a Boolean values for each row\n"
   ]
  },
  {
   "cell_type": "code",
   "execution_count": 44,
   "id": "e1d3ae93-2c77-4392-bcb6-5972ec24a597",
   "metadata": {},
   "outputs": [
    {
     "data": {
      "text/plain": [
       "0      False\n",
       "1      False\n",
       "2      False\n",
       "3      False\n",
       "4      False\n",
       "       ...  \n",
       "164    False\n",
       "165    False\n",
       "166    False\n",
       "167    False\n",
       "168    False\n",
       "Length: 164, dtype: bool"
      ]
     },
     "execution_count": 44,
     "metadata": {},
     "output_type": "execute_result"
    }
   ],
   "source": [
    "df.duplicated()"
   ]
  },
  {
   "cell_type": "markdown",
   "id": "7380e3a8-4e75-496c-b4fe-5b196161e4ce",
   "metadata": {},
   "source": [
    "- `drop_duplicates()` is used to remove duplicate value"
   ]
  },
  {
   "cell_type": "code",
   "execution_count": 45,
   "id": "b195b70c-7493-4e72-9bf7-4b158c2fbcda",
   "metadata": {},
   "outputs": [],
   "source": [
    "  df.drop_duplicates(inplace = True)"
   ]
  },
  {
   "cell_type": "markdown",
   "id": "211d2b91-f39c-4927-8021-68b693eb4f95",
   "metadata": {},
   "source": [
    "## Wrong Format\n",
    "\n",
    "Cells with data of wrong format can make it difficult, or even impossible, to analyze data.\n",
    "\n",
    "- `to_datetime()` is used to format the date"
   ]
  },
  {
   "cell_type": "code",
   "execution_count": null,
   "id": "1a21dd1d-872a-4ce6-9671-30a5bc3c6248",
   "metadata": {},
   "outputs": [],
   "source": [
    "  df['Date'] = pd.to_datetime(df['Date'])"
   ]
  },
  {
   "cell_type": "markdown",
   "id": "0555bf8d-bc21-4b2e-8166-3ee005257c24",
   "metadata": {},
   "source": [
    "## Wrong Data\n",
    "\n",
    "Wrong data does not have to be empty cells or wrong format, it can just be wrong, like if someone registered \"199\" instead of 1.99.\n",
    "\n",
    "For small data sets you might be able to replace the wrong data one by one, but not for big data set"
   ]
  },
  {
   "cell_type": "code",
   "execution_count": 47,
   "id": "5b9ebfd6-04f9-4a67-808b-cf7da8d36b70",
   "metadata": {},
   "outputs": [],
   "source": [
    "df.loc[7, 'Duration'] = 45"
   ]
  },
  {
   "cell_type": "markdown",
   "id": "52ce94bf-b569-4c9d-961b-98dc0a86f703",
   "metadata": {},
   "source": [
    "To replace wrong data for larger data sets you can create some rules, e.g. set some boundaries for legal values, and replace any values that are outside of the boundaries."
   ]
  },
  {
   "cell_type": "code",
   "execution_count": null,
   "id": "ff56532e-9b0a-4984-867f-2c9dac4372d4",
   "metadata": {},
   "outputs": [],
   "source": [
    "for x in df.index:\n",
    "  if df.loc[x, \"Duration\"] > 120:\n",
    "    df.loc[x, \"Duration\"] = 120"
   ]
  },
  {
   "cell_type": "markdown",
   "id": "5d47e343-8509-4aa5-b79f-92b67a309a8d",
   "metadata": {},
   "source": [
    "# Column Operation\n",
    "\n",
    "- `df.columnName` or `df[\"column name\"]` return specified column\n",
    "- `df[[\"first\",\"second\"]]` select multiple column\n",
    "- `df['column_name'].apply(func)` - applies a function to each value in the column.\n",
    "\n",
    "you can apply all the inspection method to column\n",
    "\n",
    "## Column Insertion\n",
    "\n",
    "1. **Assigning a New Column Directly:** You can directly assign a new column by specifying the column name and the values. If the column name already exists, this will overwrite the existing column."
   ]
  },
  {
   "cell_type": "code",
   "execution_count": 48,
   "id": "7ce5ff27-11cc-4ebe-9d26-0c441d741ab6",
   "metadata": {},
   "outputs": [],
   "source": [
    "   df = pd.DataFrame({\n",
    "       \"A\": [1, 2, 3],\n",
    "       \"B\": [4, 5, 6]\n",
    "   })\n",
    "   df[\"C\"] = [7, 8, 9]"
   ]
  },
  {
   "cell_type": "markdown",
   "id": "8c890825-4d58-4b31-a592-1b8ca4e0ca4d",
   "metadata": {},
   "source": [
    "2. **insert() method:** allow to insert a column at a specific location"
   ]
  },
  {
   "cell_type": "code",
   "execution_count": 50,
   "id": "c844950d-78ba-416a-a349-af39726bbca9",
   "metadata": {},
   "outputs": [],
   "source": [
    "   df.insert(1, \"D\", [10, 11, 12])"
   ]
  },
  {
   "cell_type": "markdown",
   "id": "154291d4-28b9-4939-a6e8-abb6ee2b5055",
   "metadata": {},
   "source": [
    "3. **assign() method:** return new dataframe with additional column. it does not modify the original dataframe uunless you reassign it."
   ]
  },
  {
   "cell_type": "code",
   "execution_count": 51,
   "id": "399e0681-8611-4d0c-88c0-e0baf9bdfa4b",
   "metadata": {},
   "outputs": [],
   "source": [
    "   df = df.assign(E=[13, 14, 15])"
   ]
  },
  {
   "cell_type": "code",
   "execution_count": 52,
   "id": "77040556-7459-4639-b521-aacb61c77bb3",
   "metadata": {},
   "outputs": [
    {
     "data": {
      "text/html": [
       "<div>\n",
       "<style scoped>\n",
       "    .dataframe tbody tr th:only-of-type {\n",
       "        vertical-align: middle;\n",
       "    }\n",
       "\n",
       "    .dataframe tbody tr th {\n",
       "        vertical-align: top;\n",
       "    }\n",
       "\n",
       "    .dataframe thead th {\n",
       "        text-align: right;\n",
       "    }\n",
       "</style>\n",
       "<table border=\"1\" class=\"dataframe\">\n",
       "  <thead>\n",
       "    <tr style=\"text-align: right;\">\n",
       "      <th></th>\n",
       "      <th>A</th>\n",
       "      <th>D</th>\n",
       "      <th>B</th>\n",
       "      <th>C</th>\n",
       "      <th>E</th>\n",
       "    </tr>\n",
       "  </thead>\n",
       "  <tbody>\n",
       "    <tr>\n",
       "      <th>0</th>\n",
       "      <td>1</td>\n",
       "      <td>10</td>\n",
       "      <td>4</td>\n",
       "      <td>7</td>\n",
       "      <td>13</td>\n",
       "    </tr>\n",
       "    <tr>\n",
       "      <th>1</th>\n",
       "      <td>2</td>\n",
       "      <td>11</td>\n",
       "      <td>5</td>\n",
       "      <td>8</td>\n",
       "      <td>14</td>\n",
       "    </tr>\n",
       "    <tr>\n",
       "      <th>2</th>\n",
       "      <td>3</td>\n",
       "      <td>12</td>\n",
       "      <td>6</td>\n",
       "      <td>9</td>\n",
       "      <td>15</td>\n",
       "    </tr>\n",
       "  </tbody>\n",
       "</table>\n",
       "</div>"
      ],
      "text/plain": [
       "   A   D  B  C   E\n",
       "0  1  10  4  7  13\n",
       "1  2  11  5  8  14\n",
       "2  3  12  6  9  15"
      ]
     },
     "execution_count": 52,
     "metadata": {},
     "output_type": "execute_result"
    }
   ],
   "source": [
    "df"
   ]
  },
  {
   "cell_type": "markdown",
   "id": "e174bec1-54b9-4281-b34e-c08dd880cd2f",
   "metadata": {},
   "source": [
    "4. **Index Based Assignment:** you can use `loc()` or `iloc()` method."
   ]
  },
  {
   "cell_type": "code",
   "execution_count": 53,
   "id": "4d347f28-3d1d-403d-84bc-b46f71dd934c",
   "metadata": {},
   "outputs": [],
   "source": [
    "   df.loc[:, \"F\"] = [16, 17, 18]"
   ]
  },
  {
   "cell_type": "markdown",
   "id": "f11316fd-d6f8-4ffd-91b3-509102e32aeb",
   "metadata": {},
   "source": [
    "## Column Updation\n",
    "\n",
    "1. **Direct Assignment:**"
   ]
  },
  {
   "cell_type": "code",
   "execution_count": 54,
   "id": "7165ea42-321c-4c48-95ba-6a1ef79da51a",
   "metadata": {},
   "outputs": [],
   "source": [
    "   df = pd.DataFrame({\n",
    "       \"A\": [1, 2, 3],\n",
    "       \"B\": [4, 5, 6]\n",
    "   })\n",
    "   df[\"A\"] = [10, 20, 30]"
   ]
  },
  {
   "cell_type": "markdown",
   "id": "7884c794-5794-4661-b827-9a9752c3c8fc",
   "metadata": {},
   "source": [
    "- `df[\"A\"] = 10` - update all value of a column\n",
    "- `df.loc[df['A'] == 2, 'B'] = 10` - update specific field of a column\n",
    "\n",
    "2. **replace():**"
   ]
  },
  {
   "cell_type": "code",
   "execution_count": 56,
   "id": "14a4962f-f44d-4c54-8611-c15e6629f597",
   "metadata": {},
   "outputs": [],
   "source": [
    "   df[\"A\"] = df[\"A\"].replace({10: 100, 99: 999})"
   ]
  },
  {
   "cell_type": "markdown",
   "id": "2551bec4-98eb-4799-8815-4f91523abc0f",
   "metadata": {},
   "source": [
    "3. **update():**"
   ]
  },
  {
   "cell_type": "code",
   "execution_count": null,
   "id": "ccbedb0c-27a6-4914-9ae1-122d6de19b61",
   "metadata": {},
   "outputs": [],
   "source": [
    "   update_series = pd.Series([200, 300], index=[0, 2])\n",
    "   df[\"A\"].update(update_series)"
   ]
  },
  {
   "cell_type": "markdown",
   "id": "21cb357e-4c7c-4342-a7d1-70b590db8346",
   "metadata": {},
   "source": [
    "## Column Deletion\n",
    "\n",
    "1. **drop():**"
   ]
  },
  {
   "cell_type": "code",
   "execution_count": 58,
   "id": "639b99b4-2380-437e-9a5e-df9e6d28c253",
   "metadata": {},
   "outputs": [],
   "source": [
    "   df.drop(columns=['B'], inplace=True)"
   ]
  },
  {
   "cell_type": "markdown",
   "id": "04d86266-632b-489b-92d1-f0491c06072d",
   "metadata": {},
   "source": [
    "2. **del:**"
   ]
  },
  {
   "cell_type": "code",
   "execution_count": null,
   "id": "4dc47690-e21d-4da7-96cd-03afc23fbbd4",
   "metadata": {},
   "outputs": [],
   "source": [
    "   del df['B']"
   ]
  },
  {
   "cell_type": "markdown",
   "id": "f779c2f2-8ac4-43d1-a8c8-b3d33e8643d3",
   "metadata": {},
   "source": [
    "3. **pop():**"
   ]
  },
  {
   "cell_type": "code",
   "execution_count": null,
   "id": "117778e8-7f31-4c9b-bc9e-5f62faf872b5",
   "metadata": {},
   "outputs": [],
   "source": [
    "   droppedCol = df.pop('B')"
   ]
  },
  {
   "cell_type": "markdown",
   "id": "ebadcda7-d48e-4551-8003-ac862702f9f0",
   "metadata": {},
   "source": [
    "4. **dropna():** `axis=1` parameter in `dropna()` method is use to remove column which have empty value, `axis=0` is use to remove row which have empty value. Default value of axis parameter is 0"
   ]
  },
  {
   "cell_type": "markdown",
   "id": "79121ef9-7a9a-4afb-93ed-f49792bd05f5",
   "metadata": {},
   "source": [
    "# Feature Scaling\n",
    "\n",
    "Feature Scaling is a technique to standardize the independent features present in the data in a fixed range.\n",
    "\n",
    "## Standardization (Z-score normalization)\n",
    "\n",
    "Standardization scales the features such that they have a mean of 0 and a standard deviation of 1. This method is useful when the features have different units or vastly different ranges. It is used when the data follows a normal distribution."
   ]
  },
  {
   "cell_type": "code",
   "execution_count": 63,
   "id": "59e9c6d4-837c-417e-a15e-064654711185",
   "metadata": {},
   "outputs": [],
   "source": [
    "from sklearn.preprocessing import StandardScaler\n",
    "scaler = StandardScaler()\n",
    "df_standardized = pd.DataFrame(scaler.fit_transform(df), columns=df.columns)"
   ]
  },
  {
   "cell_type": "markdown",
   "id": "5d2ac9ee-a377-45f4-bf6d-d6235daaa47a",
   "metadata": {},
   "source": [
    "## Min-Max Scaling (Normalization)\n",
    "\n",
    "Min-Max scaling scales the features to a fixed range, usually 0 to 1. This method is useful when the data is not normally distributed or the model requires the data in a specific range like neural networks"
   ]
  },
  {
   "cell_type": "code",
   "execution_count": 64,
   "id": "baeb2ee3-b224-4542-8cd9-fb8ac2bb7264",
   "metadata": {},
   "outputs": [],
   "source": [
    "from sklearn.preprocessing import MinMaxScaler\n",
    "scaler = MinMaxScaler()\n",
    "df_normalized = pd.DataFrame(scaler.fit_transform(df), columns=df.columns)"
   ]
  },
  {
   "cell_type": "markdown",
   "id": "6b9cf0f7-8fed-470b-9a7c-e62e4b635cba",
   "metadata": {},
   "source": [
    "## Robust Scaling\n",
    "\n",
    "Robust scaling uses the median and the interquartile range (IQR) for scaling, making it robust to outliers. This method is useful when the data contains many outliers."
   ]
  },
  {
   "cell_type": "code",
   "execution_count": 65,
   "id": "29c592da-ea82-4d89-9c6f-9ac8fdf3044c",
   "metadata": {},
   "outputs": [],
   "source": [
    "from sklearn.preprocessing import RobustScaler\n",
    "scaler = RobustScaler()\n",
    "df_robust_scaled = pd.DataFrame(scaler.fit_transform(df), columns=df.columns)"
   ]
  },
  {
   "cell_type": "markdown",
   "id": "8f0ebf57-0851-4d6b-8955-bae7f4d48556",
   "metadata": {},
   "source": [
    "## MaxAbs Scaling\n",
    "\n",
    "MaxAbs scaling scales each feature by its maximum absolute value, preserving the sparsity of the data. This method is useful for data that is sparse (contains many zeros)."
   ]
  },
  {
   "cell_type": "code",
   "execution_count": 66,
   "id": "8957d901-5cf0-4088-bced-dc493129d14d",
   "metadata": {},
   "outputs": [],
   "source": [
    "from sklearn.preprocessing import MaxAbsScaler\n",
    "scaler = MaxAbsScaler()\n",
    "df_maxabs_scaled = pd.DataFrame(scaler.fit_transform(df), columns=df.columns)"
   ]
  },
  {
   "cell_type": "markdown",
   "id": "d7d0b06f-8c4e-4ffa-a1c6-744a5bb5485e",
   "metadata": {},
   "source": [
    "# Filtering\n",
    "\n",
    "1. **Boolean Indexing:**"
   ]
  },
  {
   "cell_type": "code",
   "execution_count": 67,
   "id": "5711643a-7a27-4232-82c2-c94bf5bf21d6",
   "metadata": {},
   "outputs": [],
   "source": [
    "filtered_df = df[df['A'] > 2] # Filter rows where column __A__ is greater than 2"
   ]
  },
  {
   "cell_type": "markdown",
   "id": "743d5f6e-b506-4fcd-a9fa-6941e94f3313",
   "metadata": {},
   "source": [
    "2. **query():**"
   ]
  },
  {
   "cell_type": "code",
   "execution_count": 68,
   "id": "635edad0-9317-4878-88b7-4aef892398e2",
   "metadata": {},
   "outputs": [],
   "source": [
    "filtered_df = df.query('A > 2')"
   ]
  },
  {
   "cell_type": "markdown",
   "id": "0a0173bb-73fd-46a5-9bb3-449d36de373e",
   "metadata": {},
   "source": [
    "3. **Combining Multiple Conditions:**"
   ]
  },
  {
   "cell_type": "code",
   "execution_count": null,
   "id": "459a9e5b-77fb-4224-ba93-3a0385ae9d55",
   "metadata": {},
   "outputs": [],
   "source": [
    "filtered_df = df[(df['A'] > 2) & (df['C'] == 'foo')]"
   ]
  },
  {
   "cell_type": "markdown",
   "id": "0e20a312-8128-459b-803a-e215e0c6c3fa",
   "metadata": {},
   "source": [
    "4. **loc[]:**"
   ]
  },
  {
   "cell_type": "code",
   "execution_count": 70,
   "id": "6f0138c3-9573-4466-868b-0ef278202367",
   "metadata": {},
   "outputs": [
    {
     "data": {
      "text/html": [
       "<div>\n",
       "<style scoped>\n",
       "    .dataframe tbody tr th:only-of-type {\n",
       "        vertical-align: middle;\n",
       "    }\n",
       "\n",
       "    .dataframe tbody tr th {\n",
       "        vertical-align: top;\n",
       "    }\n",
       "\n",
       "    .dataframe thead th {\n",
       "        text-align: right;\n",
       "    }\n",
       "</style>\n",
       "<table border=\"1\" class=\"dataframe\">\n",
       "  <thead>\n",
       "    <tr style=\"text-align: right;\">\n",
       "      <th></th>\n",
       "      <th>A</th>\n",
       "    </tr>\n",
       "  </thead>\n",
       "  <tbody>\n",
       "    <tr>\n",
       "      <th>0</th>\n",
       "      <td>200</td>\n",
       "    </tr>\n",
       "    <tr>\n",
       "      <th>1</th>\n",
       "      <td>20</td>\n",
       "    </tr>\n",
       "    <tr>\n",
       "      <th>2</th>\n",
       "      <td>300</td>\n",
       "    </tr>\n",
       "  </tbody>\n",
       "</table>\n",
       "</div>"
      ],
      "text/plain": [
       "     A\n",
       "0  200\n",
       "1   20\n",
       "2  300"
      ]
     },
     "execution_count": 70,
     "metadata": {},
     "output_type": "execute_result"
    }
   ],
   "source": [
    "df.loc[df['A'] > 2]"
   ]
  },
  {
   "cell_type": "markdown",
   "id": "2f9fdfff-e4a0-455c-83ed-6099495ececa",
   "metadata": {},
   "source": [
    "5. **isin():** filter rows based on multiple specific values in a column."
   ]
  },
  {
   "cell_type": "code",
   "execution_count": 71,
   "id": "3e938dc3-b905-45b6-8522-9269d19877d6",
   "metadata": {},
   "outputs": [],
   "source": [
    "filtered_df = df[df['A'].isin([2,4])] # retur data, df['A'].isin([2,4]) return boolean"
   ]
  },
  {
   "cell_type": "markdown",
   "id": "5af591bc-a320-49da-ace9-8aa6d7aba8e8",
   "metadata": {},
   "source": [
    "# Concatenating\n",
    "\n",
    "**Rows:**"
   ]
  },
  {
   "cell_type": "code",
   "execution_count": null,
   "id": "5a7f52be-1786-4bfd-bd26-1616f35e0771",
   "metadata": {},
   "outputs": [],
   "source": [
    "concat_rows = pd.concat([df1, df2])"
   ]
  },
  {
   "cell_type": "markdown",
   "id": "c28c604e-a883-43de-9fbf-0e9b371c71f3",
   "metadata": {},
   "source": [
    "**Columns:**"
   ]
  },
  {
   "cell_type": "code",
   "execution_count": null,
   "id": "463271a4-80ca-450e-bb65-254987f7fd84",
   "metadata": {},
   "outputs": [],
   "source": [
    "concat_cols = pd.concat([df1, df3], axis=1)"
   ]
  },
  {
   "cell_type": "markdown",
   "id": "ae85732f-042a-425e-a55f-a0a18edf101a",
   "metadata": {},
   "source": [
    "# Merging\n",
    "\n",
    "## Inner Join\n",
    "\n",
    "only includes rows with matching keys in both DataFrames"
   ]
  },
  {
   "cell_type": "code",
   "execution_count": null,
   "id": "9bb751c1-32b2-4c7e-bdb2-83a963e973a8",
   "metadata": {},
   "outputs": [],
   "source": [
    "merged_inner = pd.merge(df1, df2, on='id')"
   ]
  },
  {
   "cell_type": "markdown",
   "id": "07e9fd60-c77e-4149-a281-8a613ba48dcd",
   "metadata": {},
   "source": [
    "## Outer Join\n",
    "\n",
    "includes all rows when there is a match in one of the DataFrames"
   ]
  },
  {
   "cell_type": "code",
   "execution_count": null,
   "id": "a2776167-35da-4864-9251-3d40e63eab0d",
   "metadata": {},
   "outputs": [],
   "source": [
    "merged_outer = pd.merge(df1, df2, on='id', how='outer')"
   ]
  },
  {
   "cell_type": "markdown",
   "id": "9fae45df-28a6-449d-998f-1725aec2efa1",
   "metadata": {},
   "source": [
    "if you have common column name, specify it with `on` attribute, if not, then use `left_on` and `right_on` attribute\n",
    "\n",
    "`joined = df1.join(df2, how='inner')` is used to join dataframes on their index\n",
    "\n",
    "## Left Join\n",
    "\n",
    "includes all rows from the left DataFrame and matched rows from the right DataFrame"
   ]
  },
  {
   "cell_type": "code",
   "execution_count": null,
   "id": "b3ec968e-446f-47d7-a1f6-27a66fb47ad8",
   "metadata": {},
   "outputs": [],
   "source": [
    "merged_left = pd.merge(df1, df2, on='id', how='left')"
   ]
  },
  {
   "cell_type": "markdown",
   "id": "8a6aeae6-156d-4680-a062-eedd52ab903e",
   "metadata": {},
   "source": [
    "## Right Join\n",
    "\n",
    "includes all rows from the right DataFrame and matched rows from the left DataFrame"
   ]
  },
  {
   "cell_type": "code",
   "execution_count": null,
   "id": "227050e0-b5fe-4988-b1c0-65dea0d9415c",
   "metadata": {},
   "outputs": [],
   "source": [
    "merged_right = pd.merge(df1, df2, on='id', how='right')"
   ]
  },
  {
   "cell_type": "markdown",
   "id": "d0f4c108-2d48-4eae-b353-0fde966906d2",
   "metadata": {},
   "source": [
    "# Transformation\n",
    "\n",
    "1. **apply():**\n",
    "   It allows to apply a function along the axis (rows or columns)."
   ]
  },
  {
   "cell_type": "code",
   "execution_count": 73,
   "id": "fea943c5-e45b-4dc5-8b56-5adf7c19c902",
   "metadata": {},
   "outputs": [],
   "source": [
    "df_sum = df.apply(lambda row: row.sum(), axis=1) # apply on row\n",
    "df_sum = df.apply(lambda col: col.sum(), axis=0) # apply on column"
   ]
  },
  {
   "cell_type": "markdown",
   "id": "ed6de61c-017a-4589-b6ab-f25a03780b41",
   "metadata": {},
   "source": [
    "2. **applymap():**\n",
    "   It allows to apply a function to each element."
   ]
  },
  {
   "cell_type": "code",
   "execution_count": null,
   "id": "81d22203-f430-406b-be1d-d9e8e3af4a56",
   "metadata": {},
   "outputs": [],
   "source": [
    "df_incremented = df.applymap(lambda x: x + 1)"
   ]
  },
  {
   "cell_type": "markdown",
   "id": "1b4bed1a-9466-46bf-8467-f377a7590a99",
   "metadata": {},
   "source": [
    "3. **map():**\n",
    "   It allows to apply a function to each element of a Series."
   ]
  },
  {
   "cell_type": "code",
   "execution_count": 75,
   "id": "37e63433-25c5-4159-b838-6d6049a8f179",
   "metadata": {},
   "outputs": [],
   "source": [
    "df['A'] = df['A'].map(lambda x: x * 2)"
   ]
  },
  {
   "cell_type": "markdown",
   "id": "629f430e-be11-4e30-96e3-c4eda4f762c6",
   "metadata": {},
   "source": [
    "4. **transform():**"
   ]
  }
 ],
 "metadata": {
  "kernelspec": {
   "display_name": "venv",
   "language": "python",
   "name": "venv"
  },
  "language_info": {
   "codemirror_mode": {
    "name": "ipython",
    "version": 3
   },
   "file_extension": ".py",
   "mimetype": "text/x-python",
   "name": "python",
   "nbconvert_exporter": "python",
   "pygments_lexer": "ipython3",
   "version": "3.12.8"
  }
 },
 "nbformat": 4,
 "nbformat_minor": 5
}
